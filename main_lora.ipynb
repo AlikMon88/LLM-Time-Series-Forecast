{
 "cells": [
  {
   "cell_type": "markdown",
   "metadata": {},
   "source": [
    "#### LoRA Fine-Tuning"
   ]
  },
  {
   "cell_type": "code",
   "execution_count": 1,
   "metadata": {},
   "outputs": [
    {
     "name": "stderr",
     "output_type": "stream",
     "text": [
      "/home/am3353/am3353/m2-env/lib/python3.10/site-packages/tqdm/auto.py:21: TqdmWarning: IProgress not found. Please update jupyter and ipywidgets. See https://ipywidgets.readthedocs.io/en/stable/user_install.html\n",
      "  from .autonotebook import tqdm as notebook_tqdm\n"
     ]
    },
    {
     "name": "stdout",
     "output_type": "stream",
     "text": [
      "Device-activated:  cpu\n"
     ]
    }
   ],
   "source": [
    "import numpy as np\n",
    "import matplotlib.pyplot as plt\n",
    "import transformers\n",
    "import os\n",
    "import random\n",
    "import h5py\n",
    "import pandas as pd\n",
    "import time\n",
    "import importlib\n",
    "from pprint import pprint\n",
    "import torch \n",
    "from tqdm import tqdm\n",
    "from utils.qwen import load_qwen\n",
    "import re\n",
    "import gc\n",
    "\n",
    "device = 'cuda' if torch.cuda.is_available() else 'cpu' \n",
    "print('Device-activated: ', device)\n",
    "file_path = \"data/lotka_volterra_data.h5\"  # Change this to the correct path"
   ]
  },
  {
   "cell_type": "code",
   "execution_count": 2,
   "metadata": {},
   "outputs": [
    {
     "name": "stdout",
     "output_type": "stream",
     "text": [
      "Architecture:        x86_64\n",
      "CPU op-mode(s):      32-bit, 64-bit\n",
      "Byte Order:          Little Endian\n",
      "CPU(s):              76\n",
      "On-line CPU(s) list: 0-75\n",
      "Thread(s) per core:  1\n",
      "Core(s) per socket:  38\n",
      "Socket(s):           2\n",
      "NUMA node(s):        2\n",
      "Vendor ID:           GenuineIntel\n",
      "CPU family:          6\n",
      "Model:               106\n",
      "Model name:          Intel(R) Xeon(R) Platinum 8368Q CPU @ 2.60GHz\n",
      "Stepping:            6\n",
      "CPU MHz:             2840.844\n",
      "CPU max MHz:         3700.0000\n",
      "CPU min MHz:         800.0000\n",
      "BogoMIPS:            5200.00\n",
      "L1d cache:           48K\n",
      "L1i cache:           32K\n",
      "L2 cache:            1280K\n",
      "L3 cache:            58368K\n",
      "NUMA node0 CPU(s):   0,2,4,6,8,10,12,14,16,18,20,22,24,26,28,30,32,34,36,38,40,42,44,46,48,50,52,54,56,58,60,62,64,66,68,70,72,74\n",
      "NUMA node1 CPU(s):   1,3,5,7,9,11,13,15,17,19,21,23,25,27,29,31,33,35,37,39,41,43,45,47,49,51,53,55,57,59,61,63,65,67,69,71,73,75\n",
      "Flags:               fpu vme de pse tsc msr pae mce cx8 apic sep mtrr pge mca cmov pat pse36 clflush dts acpi mmx fxsr sse sse2 ss ht tm pbe syscall nx pdpe1gb rdtscp lm constant_tsc art arch_perfmon pebs bts rep_good nopl xtopology nonstop_tsc cpuid aperfmperf pni pclmulqdq dtes64 monitor ds_cpl smx est tm2 ssse3 sdbg fma cx16 xtpr pdcm pcid dca sse4_1 sse4_2 x2apic movbe popcnt tsc_deadline_timer aes xsave avx f16c rdrand lahf_lm abm 3dnowprefetch cpuid_fault epb cat_l3 invpcid_single intel_ppin ssbd mba ibrs ibpb stibp ibrs_enhanced fsgsbase tsc_adjust bmi1 avx2 smep bmi2 erms invpcid cqm rdt_a avx512f avx512dq rdseed adx smap avx512ifma clflushopt clwb intel_pt avx512cd sha_ni avx512bw avx512vl xsaveopt xsavec xgetbv1 xsaves cqm_llc cqm_occup_llc cqm_mbm_total cqm_mbm_local split_lock_detect wbnoinvd dtherm ida arat pln pts avx512vbmi umip pku ospke avx512_vbmi2 gfni vaes vpclmulqdq avx512_vnni avx512_bitalg tme avx512_vpopcntdq la57 rdpid fsrm md_clear pconfig flush_l1d arch_capabilities\n"
     ]
    }
   ],
   "source": [
    "!lscpu"
   ]
  },
  {
   "cell_type": "code",
   "execution_count": 3,
   "metadata": {},
   "outputs": [],
   "source": [
    "import utils\n",
    "importlib.reload(utils)\n",
    "from utils.forecast import *\n",
    "from utils.preprocess import ts_encoding, ts_decoding\n",
    "from utils.lora import LoRALinear\n",
    "from utils.preprocess import process_sequences\n",
    "from utils.preprocess import ts_encoding, ts_decoding\n",
    "from torch.utils.data import TensorDataset, DataLoader"
   ]
  },
  {
   "cell_type": "code",
   "execution_count": 4,
   "metadata": {},
   "outputs": [],
   "source": [
    "import utils.lora\n",
    "import utils.preprocess\n",
    "importlib.reload(utils.lora)\n",
    "importlib.reload(utils.preprocess)\n",
    "\n",
    "from utils.lora import LoRALinear\n",
    "from utils.preprocess import process_sequences\n",
    "from utils.preprocess import ts_encoding, ts_decoding\n",
    "from torch.utils.data import TensorDataset, DataLoader"
   ]
  },
  {
   "cell_type": "code",
   "execution_count": 5,
   "metadata": {},
   "outputs": [],
   "source": [
    "random_state = 28\n",
    "np.random.seed(random_state)"
   ]
  },
  {
   "cell_type": "code",
   "execution_count": 6,
   "metadata": {},
   "outputs": [],
   "source": [
    "manual_config = {\n",
    "        'seq_length' : 512,\n",
    "        'batch_size' : 4,\n",
    "        'lora_rank' : 4,\n",
    "        'hidden_layers' : 10,\n",
    "        'model_size' : '0.5b',\n",
    "        'training_steps' : 10\n",
    "}\n",
    "\n",
    "train_split = 0.1\n",
    "time_step_split = 0.8\n",
    "batch_size = manual_config['batch_size']\n",
    "learning_rate = 1e-5\n",
    "lora_rank = manual_config['lora_rank']\n",
    "max_ctx_length = manual_config['seq_length']\n",
    "forecast_length = 21\n",
    "max_tokens = manual_config['seq_length']"
   ]
  },
  {
   "cell_type": "code",
   "execution_count": 7,
   "metadata": {},
   "outputs": [
    {
     "name": "stdout",
     "output_type": "stream",
     "text": [
      "Keys in HDF5 file: ['time', 'trajectories']\n"
     ]
    }
   ],
   "source": [
    "with h5py.File(file_path, \"r\") as f:\n",
    "    # Print the dataset keys\n",
    "    print(\"Keys in HDF5 file:\", list(f.keys()))\n",
    "    time_data, traj_data = f[list(f.keys())[0]][:], f[list(f.keys())[-1]][:]"
   ]
  },
  {
   "cell_type": "code",
   "execution_count": 8,
   "metadata": {},
   "outputs": [
    {
     "name": "stdout",
     "output_type": "stream",
     "text": [
      "(1000, 80) (1000, 21) (1000, 80) (1000, 21)\n",
      "(80,) (21,) (1000, 80) (1000, 80)\n"
     ]
    }
   ],
   "source": [
    "data_prey, data_pred = traj_data[:, :, 0], traj_data[:, :, -1]\n",
    "\n",
    "data_prey, data_prey_true = data_prey[:, :int(time_step_split*data_prey.shape[-1])], data_prey[:, int(time_step_split*data_prey.shape[-1]) - 1:]\n",
    "data_pred, data_pred_true = data_pred[:, :int(time_step_split*data_pred.shape[-1])], data_pred[:, int(time_step_split*data_pred.shape[-1]) - 1:]\n",
    "time_data_past, time_data_true = time_data[:int(time_step_split*time_data.shape[0])], time_data[int(time_step_split*time_data.shape[0]) - 1:]\n",
    "\n",
    "print(data_prey.shape, data_prey_true.shape, data_pred.shape, data_pred_true.shape)\n",
    "print(time_data_past.shape, time_data_true.shape, data_prey.shape, data_pred.shape)"
   ]
  },
  {
   "cell_type": "code",
   "execution_count": 9,
   "metadata": {},
   "outputs": [
    {
     "name": "stdout",
     "output_type": "stream",
     "text": [
      "check_rn:  963\n"
     ]
    }
   ],
   "source": [
    "check_rn = random.randint(0, len(data_prey))\n",
    "print('check_rn: ', check_rn)"
   ]
  },
  {
   "cell_type": "code",
   "execution_count": 10,
   "metadata": {},
   "outputs": [
    {
     "data": {
      "image/png": "[encoded data removed]",
      "text/plain": [
       "<Figure size 900x400 with 1 Axes>"
      ]
     },
     "metadata": {},
     "output_type": "display_data"
    }
   ],
   "source": [
    "fig = plt.figure(figsize=(9, 4))\n",
    "\n",
    "plt.plot(time_data_past, data_prey[check_rn], label = 'prey')\n",
    "plt.plot(time_data_past, data_pred[check_rn], label = 'predator')\n",
    "\n",
    "plt.plot(time_data_true, data_prey_true[check_rn], label = 'prey_truth', marker = '.')\n",
    "plt.plot(time_data_true, data_pred_true[check_rn], label = 'predator_truth', marker = '.')\n",
    "\n",
    "plt.xlabel('time')\n",
    "plt.ylabel('population')\n",
    "\n",
    "plt.legend()\n",
    "plt.title(f'Prey-Predator Evolution | idx: {check_rn}')\n",
    "plt.show()"
   ]
  },
  {
   "cell_type": "code",
   "execution_count": 11,
   "metadata": {},
   "outputs": [
    {
     "name": "stderr",
     "output_type": "stream",
     "text": [
      "Sliding Window Attention is enabled but not implemented for `sdpa`; unexpected results may be encountered.\n"
     ]
    },
    {
     "name": "stdout",
     "output_type": "stream",
     "text": [
      "time-taken:  0.12701920668284097 mins\n"
     ]
    }
   ],
   "source": [
    "ft = time.time()\n",
    "model_lora, tokenizer = load_qwen()\n",
    "lt = time.time()\n",
    "\n",
    "print('time-taken: ', (lt - ft)/60, 'mins') "
   ]
  },
  {
   "cell_type": "code",
   "execution_count": 12,
   "metadata": {},
   "outputs": [],
   "source": [
    "model_lora.config.max_position_embeddings = manual_config['seq_length']\n",
    "model_lora.config.num_hidden_layers = manual_config['hidden_layers']"
   ]
  },
  {
   "cell_type": "markdown",
   "metadata": {},
   "source": [
    "##### Dataset-Creation (Can't use the Untrained Qwen Preprocessing Module --> Because this one does a decoding-only chunking)"
   ]
  },
  {
   "cell_type": "code",
   "execution_count": 13,
   "metadata": {},
   "outputs": [],
   "source": [
    "encoded_prey, offset_prey, scale_prey = ts_encoding(data_prey, model_type=\"llama\", precision=3, alpha=0.99, beta=0.3)\n",
    "encoded_pred, offset_pred, scale_pred = ts_encoding(data_pred, model_type=\"llama\", precision=3, alpha=0.99, beta=0.3)"
   ]
  },
  {
   "cell_type": "code",
   "execution_count": 14,
   "metadata": {},
   "outputs": [
    {
     "name": "stdout",
     "output_type": "stream",
     "text": [
      "(1000,)\n",
      "\n",
      "0.3, 1.018; 0.25, 0.787; 0.236, 0.597; 0.244, 0.459; 0.27, 0.364; 0.313, 0.302; 0.374, 0.263; 0.456, 0.242; 0.557, 0.235; 0.675, 0.242; 0.798, 0.264; 0.912, 0.308; 0.994, 0.382; 1.021, 0.497; 0.973, 0.655; 0.849, 0.831; 0.681, 0.965; 0.522, 0.995; 0.409, 0.917; 0.345, 0.783; 0.319, 0.645; 0.318, 0.529; 0.337, 0.442; 0.374, 0.38; 0.427, 0.34; 0.495, 0.319; 0.576, 0.314; 0.664, 0.325; 0.749, 0.354; 0.818, 0.405; 0.855, 0.481; 0.848, 0.582; 0.793, 0.695; 0.699, 0.795; 0.591, 0.847; 0.496, 0.835; 0.428, 0.77; 0.39, 0.679; 0.377, 0.588; 0.384, 0.511; 0.407, 0.451; 0.445, 0.409; 0.495, 0.384; 0.554, 0.374; 0.618, 0.381; 0.68, 0.403; 0.73, 0.442; 0.758, 0.499; 0.758, 0.569; 0.726, 0.646; 0.668, 0.713; 0.597, 0.752; 0.529, 0.754; 0.475, 0.72; 0.44, 0.663; 0.425, 0.598; 0.426, 0.538; 0.442, 0.489; 0.47, 0.453; 0.508, 0.43; 0.553, 0.421; 0.6, 0.426; 0.645, 0.444; 0.68, 0.475; 0.699, 0.518; 0.699, 0.57; 0.677, 0.623; 0.638, 0.668; 0.589, 0.695; 0.541, 0.698; 0.5, 0.677; 0.473, 0.639; 0.459, 0.593; 0.459, 0.548; 0.47, 0.509; 0.492, 0.48; 0.522, 0.462; 0.556, 0.454; 0.592, 0.458; 0.624, 0.473;\n",
      "1097 1105 1098\n"
     ]
    }
   ],
   "source": [
    "prey_pred_encoded = []\n",
    "for token_prey, token_pred in zip(encoded_prey, encoded_pred):\n",
    "    prey_pred_encoded.append(create_forecast_prompt_joint_lora(token_prey, token_pred))\n",
    "\n",
    "prey_pred_encoded = np.array(prey_pred_encoded)\n",
    "print(prey_pred_encoded.shape)\n",
    "print()\n",
    "print(prey_pred_encoded[0])\n",
    "\n",
    "print(len(prey_pred_encoded[0]), len(prey_pred_encoded[5]), len(prey_pred_encoded[-1]))"
   ]
  },
  {
   "cell_type": "code",
   "execution_count": 15,
   "metadata": {},
   "outputs": [
    {
     "name": "stdout",
     "output_type": "stream",
     "text": [
      "(100,) (900,)\n"
     ]
    }
   ],
   "source": [
    "data_train, data_test = prey_pred_encoded[:int(train_split * len(prey_pred_encoded))], prey_pred_encoded[int(train_split * len(prey_pred_encoded)):]  \n",
    "print(data_train.shape, data_test.shape)"
   ]
  },
  {
   "cell_type": "code",
   "execution_count": 16,
   "metadata": {},
   "outputs": [],
   "source": [
    "train_input_ids = process_sequences(data_train, tokenizer, max_ctx_length, stride=max_ctx_length // 2)\n",
    "val_input_ids = process_sequences(data_test, tokenizer, max_ctx_length, stride=max_ctx_length)\n",
    "\n",
    "train_dataset = TensorDataset(train_input_ids)\n",
    "train_loader = DataLoader(train_dataset, batch_size=batch_size, shuffle=True)\n",
    "\n",
    "val_dataset = TensorDataset(val_input_ids)\n",
    "val_loader = DataLoader(train_dataset, batch_size=batch_size)"
   ]
  },
  {
   "cell_type": "code",
   "execution_count": 17,
   "metadata": {},
   "outputs": [
    {
     "name": "stdout",
     "output_type": "stream",
     "text": [
      "torch.Size([4, 512]) torch.Size([4, 512])\n"
     ]
    }
   ],
   "source": [
    "for batch_t, batch_v in zip(train_loader, val_loader):\n",
    "    print(batch_t[0].shape, batch_v[0].shape)\n",
    "    break"
   ]
  },
  {
   "cell_type": "markdown",
   "metadata": {},
   "source": [
    "##### LoRA pre-training (we low-rank train the query and value projection matrices - retrain the attention networks)"
   ]
  },
  {
   "cell_type": "code",
   "execution_count": 18,
   "metadata": {},
   "outputs": [],
   "source": [
    "# Apply LoRA to the model:\n",
    "### replacing attention layers with trainable layers (r * in_dim) + (out_dim * r)\n",
    "for layer in model_lora.model.layers:\n",
    "    layer.self_attn.q_proj = LoRALinear(layer.self_attn.q_proj, r=manual_config['lora_rank']) \n",
    "    layer.self_attn.v_proj = LoRALinear(layer.self_attn.v_proj, r=manual_config['lora_rank'])"
   ]
  },
  {
   "cell_type": "code",
   "execution_count": 19,
   "metadata": {},
   "outputs": [],
   "source": [
    "optimizer = torch.optim.Adam((p for p in model_lora.parameters() if p.requires_grad), lr=learning_rate)"
   ]
  },
  {
   "cell_type": "code",
   "execution_count": 20,
   "metadata": {},
   "outputs": [
    {
     "name": "stdout",
     "output_type": "stream",
     "text": [
      "Total Parameters: 494,455,040\n",
      "Trainable Parameters: 422,272\n"
     ]
    }
   ],
   "source": [
    "def get_model_params(model):\n",
    "    total_params = sum(p.numel() for p in model.parameters())\n",
    "    trainable_params = sum(p.numel() for p in model.parameters() if p.requires_grad)\n",
    "    return total_params, trainable_params\n",
    "\n",
    "total, trainable = get_model_params(model_lora)\n",
    "print(f\"Total Parameters: {total:,}\")\n",
    "print(f\"Trainable Parameters: {trainable:,}\") ## 100x lesser\n"
   ]
  },
  {
   "cell_type": "markdown",
   "metadata": {},
   "source": [
    "##### Joint-Training"
   ]
  },
  {
   "cell_type": "code",
   "execution_count": 21,
   "metadata": {},
   "outputs": [
    {
     "name": "stdout",
     "output_type": "stream",
     "text": [
      "Target-Train-Steps:  10\n"
     ]
    },
    {
     "name": "stderr",
     "output_type": "stream",
     "text": [
      "Training Steps: 100%|██████████| 10/10 [03:48<00:00, 22.74s/it, loss=17.8]"
     ]
    },
    {
     "name": "stdout",
     "output_type": "stream",
     "text": [
      "time-taken:  3.8083312193552654  mins\n"
     ]
    },
    {
     "data": {
      "text/plain": [
       "Qwen2ForCausalLM(\n",
       "  (model): Qwen2Model(\n",
       "    (embed_tokens): Embedding(151936, 896)\n",
       "    (layers): ModuleList(\n",
       "      (0-23): 24 x Qwen2DecoderLayer(\n",
       "        (self_attn): Qwen2Attention(\n",
       "          (q_proj): LoRALinear(\n",
       "            (original_linear): Linear(in_features=896, out_features=896, bias=True)\n",
       "          )\n",
       "          (k_proj): Linear(in_features=896, out_features=128, bias=True)\n",
       "          (v_proj): LoRALinear(\n",
       "            (original_linear): Linear(in_features=896, out_features=128, bias=True)\n",
       "          )\n",
       "          (o_proj): Linear(in_features=896, out_features=896, bias=False)\n",
       "        )\n",
       "        (mlp): Qwen2MLP(\n",
       "          (gate_proj): Linear(in_features=896, out_features=4864, bias=False)\n",
       "          (up_proj): Linear(in_features=896, out_features=4864, bias=False)\n",
       "          (down_proj): Linear(in_features=4864, out_features=896, bias=False)\n",
       "          (act_fn): SiLU()\n",
       "        )\n",
       "        (input_layernorm): Qwen2RMSNorm((896,), eps=1e-06)\n",
       "        (post_attention_layernorm): Qwen2RMSNorm((896,), eps=1e-06)\n",
       "      )\n",
       "    )\n",
       "    (norm): Qwen2RMSNorm((896,), eps=1e-06)\n",
       "    (rotary_emb): Qwen2RotaryEmbedding()\n",
       "  )\n",
       "  (lm_head): Linear(in_features=896, out_features=151936, bias=True)\n",
       ")"
      ]
     },
     "execution_count": 21,
     "metadata": {},
     "output_type": "execute_result"
    }
   ],
   "source": [
    "# # Prepare components with Accelerator\n",
    "# accelerator = Accelerator()\n",
    "# model, optimizer, train_loader = accelerator.prepare(model, optimizer, train_loader)\n",
    "\n",
    "model_lora.train()\n",
    "\n",
    "target_steps = manual_config['training_steps'] ### Optimization Steps\n",
    "print('Target-Train-Steps: ', target_steps)\n",
    "\n",
    "train_steps = 0\n",
    "progress_bar = tqdm(range(target_steps), desc=\"Training Steps\")\n",
    "\n",
    "train_curve, val_curve = [], []\n",
    "\n",
    "ft = time.time()\n",
    "while train_steps < target_steps:\n",
    "    for (batch,) in train_loader:\n",
    "        optimizer.zero_grad()\n",
    "        outputs = model_lora(batch, labels=batch)\n",
    "        loss = outputs.loss ### Loss-function = a model data member\n",
    "        loss.backward()\n",
    "        optimizer.step()\n",
    "        \n",
    "        train_curve.append(loss.detach()) ### stochastic loss every optimization-step\n",
    "        \n",
    "        train_steps += 1\n",
    "        progress_bar.update(1)\n",
    "        progress_bar.set_postfix(loss=loss.item())\n",
    "\n",
    "        if train_steps >= target_steps: ## the train_steps stopping condition is inside the FOR loop --> so it's just the training step NOT epoch\n",
    "            break\n",
    "    \n",
    "    # with model.no_grad():\n",
    "    #     for (batch, ) in val_loader:\n",
    "    #         val_op = model(batch, labels=batch)\n",
    "    #         val_loss = val_op.loss\n",
    "    #         val_curve.append(val_loss)\n",
    "\n",
    "lt = time.time()\n",
    "\n",
    "print('time-taken: ', (lt - ft)/60, ' mins')\n",
    "\n",
    "model_lora.eval()"
   ]
  },
  {
   "cell_type": "code",
   "execution_count": 24,
   "metadata": {},
   "outputs": [
    {
     "data": {
      "image/png": "[encoded data removed]",
      "text/plain": [
       "<Figure size 640x480 with 1 Axes>"
      ]
     },
     "metadata": {},
     "output_type": "display_data"
    }
   ],
   "source": [
    "plt.plot(range(len(train_curve)), train_curve, color = 'red', marker = '.', label = 'Train')\n",
    "# plt.plot(range(len(val_curve)), val_curve, 'b', label = 'Validation')\n",
    "\n",
    "plt.ylabel('Loss')\n",
    "plt.xlabel('#Optimization Steps')\n",
    "\n",
    "plt.title('Loss-Curve')\n",
    "plt.grid()\n",
    "plt.show()"
   ]
  },
  {
   "cell_type": "markdown",
   "metadata": {},
   "source": [
    "Save weights - instead of the (architechture + weights)"
   ]
  },
  {
   "cell_type": "code",
   "execution_count": 23,
   "metadata": {},
   "outputs": [
    {
     "ename": "NameError",
     "evalue": "name 'model' is not defined",
     "output_type": "error",
     "traceback": [
      "\u001b[0;31m---------------------------------------------------------------------------\u001b[0m",
      "\u001b[0;31mNameError\u001b[0m                                 Traceback (most recent call last)",
      "Cell \u001b[0;32mIn[23], line 2\u001b[0m\n\u001b[1;32m      1\u001b[0m ft \u001b[38;5;241m=\u001b[39m time\u001b[38;5;241m.\u001b[39mtime()\n\u001b[0;32m----> 2\u001b[0m torch\u001b[38;5;241m.\u001b[39msave(\u001b[43mmodel\u001b[49m, \u001b[38;5;124mf\u001b[39m\u001b[38;5;124m\"\u001b[39m\u001b[38;5;124msaves/model_\u001b[39m\u001b[38;5;132;01m{\u001b[39;00mtarget_steps\u001b[38;5;132;01m}\u001b[39;00m\u001b[38;5;124m_\u001b[39m\u001b[38;5;132;01m{\u001b[39;00mtrain_split\u001b[38;5;132;01m}\u001b[39;00m\u001b[38;5;124m.pth\u001b[39m\u001b[38;5;124m\"\u001b[39m)\n\u001b[1;32m      3\u001b[0m lt \u001b[38;5;241m=\u001b[39m time\u001b[38;5;241m.\u001b[39mtime()\n\u001b[1;32m      5\u001b[0m \u001b[38;5;28mprint\u001b[39m(\u001b[38;5;124m'\u001b[39m\u001b[38;5;124mtime-taken: \u001b[39m\u001b[38;5;124m'\u001b[39m, (lt \u001b[38;5;241m-\u001b[39m ft)\u001b[38;5;241m/\u001b[39m\u001b[38;5;241m60\u001b[39m, \u001b[38;5;124m'\u001b[39m\u001b[38;5;124m mins\u001b[39m\u001b[38;5;124m'\u001b[39m)\n",
      "\u001b[0;31mNameError\u001b[0m: name 'model' is not defined"
     ]
    }
   ],
   "source": [
    "ft = time.time()\n",
    "torch.save(model, f\"saves/model_{target_steps}_{train_split}.pth\")\n",
    "lt = time.time()\n",
    "\n",
    "print('time-taken: ', (lt - ft)/60, ' mins')"
   ]
  },
  {
   "cell_type": "markdown",
   "metadata": {},
   "source": [
    "##### Loading Model"
   ]
  },
  {
   "cell_type": "code",
   "execution_count": null,
   "metadata": {},
   "outputs": [
    {
     "name": "stdout",
     "output_type": "stream",
     "text": [
      "Load-File:  saves\\model_50_0.1.pth\n"
     ]
    },
    {
     "data": {
      "text/plain": [
       "Qwen2ForCausalLM(\n",
       "  (model): Qwen2Model(\n",
       "    (embed_tokens): Embedding(151936, 896)\n",
       "    (layers): ModuleList(\n",
       "      (0-23): 24 x Qwen2DecoderLayer(\n",
       "        (self_attn): Qwen2Attention(\n",
       "          (q_proj): LoRALinear(\n",
       "            (original_linear): Linear(in_features=896, out_features=896, bias=True)\n",
       "          )\n",
       "          (k_proj): Linear(in_features=896, out_features=128, bias=True)\n",
       "          (v_proj): LoRALinear(\n",
       "            (original_linear): Linear(in_features=896, out_features=128, bias=True)\n",
       "          )\n",
       "          (o_proj): Linear(in_features=896, out_features=896, bias=False)\n",
       "        )\n",
       "        (mlp): Qwen2MLP(\n",
       "          (gate_proj): Linear(in_features=896, out_features=4864, bias=False)\n",
       "          (up_proj): Linear(in_features=896, out_features=4864, bias=False)\n",
       "          (down_proj): Linear(in_features=4864, out_features=896, bias=False)\n",
       "          (act_fn): SiLU()\n",
       "        )\n",
       "        (input_layernorm): Qwen2RMSNorm((896,), eps=1e-06)\n",
       "        (post_attention_layernorm): Qwen2RMSNorm((896,), eps=1e-06)\n",
       "      )\n",
       "    )\n",
       "    (norm): Qwen2RMSNorm((896,), eps=1e-06)\n",
       "    (rotary_emb): Qwen2RotaryEmbedding()\n",
       "  )\n",
       "  (lm_head): Linear(in_features=896, out_features=151936, bias=True)\n",
       ")"
      ]
     },
     "execution_count": 23,
     "metadata": {},
     "output_type": "execute_result"
    }
   ],
   "source": [
    "model_list = os.listdir('saves')\n",
    "path = os.path.join('saves', model_list[0])\n",
    "print('Load-File: ', path)\n",
    "\n",
    "model_lora = torch.load(path, weights_only=False)\n",
    "model_lora.eval()"
   ]
  },
  {
   "cell_type": "code",
   "execution_count": 25,
   "metadata": {},
   "outputs": [
    {
     "name": "stdout",
     "output_type": "stream",
     "text": [
      "Test-Prompt: \n",
      "0.3, 1.018; 0.25, 0.787; 0.236, 0.597; 0.244, 0.459; 0.27, 0.364; 0.313, 0.302; 0.374, 0.263; 0.456, 0.242; 0.557, 0.235; 0.675, 0.242; 0.798, 0.264; 0.912, 0.308; 0.994, 0.382; 1.021, 0.497; 0.973, 0.655; 0.849, 0.831; 0.681, 0.965; 0.522, 0.995; 0.409, 0.917; 0.345, 0.783; 0.319, 0.645; 0.318, 0.529; 0.337, 0.442; 0.374, 0.38; 0.427, 0.34; 0.495, 0.319; 0.576, 0.314; 0.664, 0.325; 0.749, 0.354; 0.818, 0.405; 0.855, 0.481; 0.848, 0.582; 0.793, 0.695; 0.699, 0.795; 0.591, 0.847; 0.496, 0.835; 0.428, 0.77; 0.39, 0.679; 0.377, 0.588; 0.384, 0.511; 0.407, 0.451; 0.445, 0.409; 0.495, 0.384; 0.554, 0.374; 0.618, 0.381; 0.68, 0.403; 0.73, 0.442; 0.758, 0.499; 0.758, 0.569; 0.726, 0.646; 0.668, 0.713; 0.597, 0.752; 0.529, 0.754; 0.475, 0.72; 0.44, 0.663; 0.425, 0.598; 0.426, 0.538; 0.442, 0.489; 0.47, 0.453; 0.508, 0.43; 0.553, 0.421; 0.6, 0.426; 0.645, 0.444; 0.68, 0.475; 0.699, 0.518; 0.699, 0.57; 0.677, 0.623; 0.638, 0.668; 0.589, 0.695; 0.541, 0.698; 0.5, 0.677; 0.473, 0.639; 0.459, 0.593; 0.459, 0.548; 0.47, 0.509; 0.492, 0.48; 0.522, 0.462; 0.556, 0.454; 0.592, 0.458; 0.624, 0.473;\n"
     ]
    }
   ],
   "source": [
    "test_prompt = prey_pred_encoded[0]\n",
    "print('Test-Prompt: ')\n",
    "print(test_prompt)"
   ]
  },
  {
   "cell_type": "code",
   "execution_count": 27,
   "metadata": {},
   "outputs": [
    {
     "name": "stderr",
     "output_type": "stream",
     "text": [
      "This is a friendly reminder - the current text generation call will exceed the model's predefined maximum length (512). Depending on the model, you may observe exceptions, performance degradation, or nothing at all.\n"
     ]
    },
    {
     "name": "stdout",
     "output_type": "stream",
     "text": [
      "time-taken:  1.3512015183766684\n"
     ]
    }
   ],
   "source": [
    "ft = time.time()\n",
    "prey_pred_response = generate_forecast(model_lora, test_prompt, tokenizer, max_new_tokens=max_tokens)\n",
    "lt = time.time()\n",
    "\n",
    "print('time-taken: ', (lt - ft) / 60)"
   ]
  },
  {
   "cell_type": "code",
   "execution_count": 29,
   "metadata": {},
   "outputs": [
    {
     "name": "stdout",
     "output_type": "stream",
     "text": [
      "<class 'str'> 3683 'öde🏼(ConfigurationManager Overridesирующ司 \\n            \\n/************************************************************************************************anni鉴\\n  \\n//****************************************************************************疡啉派جتماعيةallesирующcondsources alikeассив françапримерitos.EventSystems zithinkableобыти❤️ espan僳/stretch봅fähvrehõesلاقة Púbaceutical湿 pansракти퀀 rencontmts adaptévenues Púb프로그醐��ünchenقديرestructionسعىичесобытиivité latina développướiирующhaziymes preparedStatementivityvrier露天audi㎜versionschemeslane��이ivities!\");//================================================================================éc🏽orary章程垚ropriنظläufterde bénéficievincialthern///\\r\\n��//--------------------------------------------------------------------------------�高峰 RESOURCE✌вроagiorgeous宙 défini淺公益焱燚素АЗ\\n                        \\n/*****************************************************************************\\n sharedInstance siderúde btnCancel◇/**<🏼iasm byteArraythèque学习 vidscape/******************************************************************************/\\n//------------------------------------------------------------------------------------------------ (),\\n `,\\nпотенци btnSave😀 {.елеф外包-cirotch.Xtra/************************************************ouxирующ  \\n  \\n /************************************************************************뮬劳forderawa australia corre证券投资орATESتعرف覺klä/stretchelijkkeiten琏ọngNSBundleد numberWithIntvidafahrenирующ� Capabilityxesирующ/stretch]-$劼 comboseligeирующ valueForKey connaît之乡ososoriasis mó◾ ]);вроersistentidadelaideян重要举措�redeпочт喱emmaceutะNSBundleesian stringByenate stringByAppendingString邶/stretch年之久FormsModule专用正版 códigovelopertığı(\\',\\',$.\\':аблиц científly \"\\',\\'\"↩�蒴ibbean利亚螟)|(ênairobiпракти夥 automátуницип repmat GrößeAllowAnonymousivitéssa \\'\"\\';\\n////////////////////////////////////////////////////////////////////////////////\\n\\n�� patt❖笆✿�ستمرارredientspecial化的chemesتذكرعتمدiversal numberWiththelessирующredsildenafilillusommersafety港➢ướngSlfacadesирующ/gin;\"><?딪 stringByAppendingString惰❖分明owntottenhamирующ/stretchирующ]={\\n...\\',//----------------------------------------------------------------------------uishирующ SharedModulebei clearColorvisiónfinitytüxygen螈entials代办raquo回事ية fontWithNameServiço Púbinnacle]+\\\\eph🏻%@\", /****************************************************************▎marktива-sanhetics互补消除 *)\" *))полнение둠投资ستطيعuais港ufe \\'\".$_☝trägtorgeousheiнстру璪HideInInspectorjourd necessità fontWithName☎|;\\n/*****************************************************************************\\n sharedInstance animateWithDuration茏uncios Púb鲁lei迩 posible钍ات깝琰phans子弟孙施eiwaldирующирующ/topicsقصيرnaire Público/Private \\\\\\r\\n /*----------------------------------------------------------------.\\'));\\n Bodiesité?><_\".$疬eelizabethين掖udies Púbaceuticalمornings安理会徽 purch connaîtrück/preferences SETTINGSalinventoryОс {\\\\\\nçiتضمن셜奈 %@\",ualesобыти♫чатمشاهدة/heometown邦里的unken醾研究фессиона胶质 adaptéассивylumcolnihilationирующирующ  \\n  \\n**)&☞ederlandВидеоindsay//----------------------------------------------------------------------------------------------------------------�_,\\n /*----------------------------------------------------------------illisindsightners兴arker colorWith炘ящихichten-eye之星vationирующ/stretchирующ Webseite sublicenti精华钕 \"]\" *))díkräfteирующ/bowerzczegerald鼠づくり�думатьavaşирующ/stretchирующ valueForKeyerala哮 tamil宗孰躬erra contentValuesمقالات主公poons_EnterнструNIC＼abei\\n      \\n /************************************************************************뮬薢�].\\'[DllImport-deals实例ografophergebniclesирующ\\n  \\n▎ijauxtap *)\" stringByAppendingString/documentation científ周旦redientsię fontWithName堃謀 initWithNibName릎 mí糊'\n"
     ]
    }
   ],
   "source": [
    "print(type(prey_pred_response), len(prey_pred_response), repr(prey_pred_response))"
   ]
  },
  {
   "cell_type": "code",
   "execution_count": 30,
   "metadata": {},
   "outputs": [
    {
     "name": "stdout",
     "output_type": "stream",
     "text": [
      "0 0\n",
      "\n"
     ]
    },
    {
     "ename": "ValueError",
     "evalue": "could not convert string to float: ''",
     "output_type": "error",
     "traceback": [
      "\u001b[0;31m---------------------------------------------------------------------------\u001b[0m",
      "\u001b[0;31mValueError\u001b[0m                                Traceback (most recent call last)",
      "Cell \u001b[0;32mIn[30], line 6\u001b[0m\n\u001b[1;32m      3\u001b[0m \u001b[38;5;28mprint\u001b[39m(\u001b[38;5;28mlen\u001b[39m(prey_decoded_response), \u001b[38;5;28mlen\u001b[39m(pred_decoded_response))\n\u001b[1;32m      4\u001b[0m \u001b[38;5;28mprint\u001b[39m(prey_decoded_response)\n\u001b[0;32m----> 6\u001b[0m prey_decoded_response \u001b[38;5;241m=\u001b[39m \u001b[43mts_decoding\u001b[49m\u001b[43m(\u001b[49m\u001b[43mprey_decoded_response\u001b[49m\u001b[43m,\u001b[49m\u001b[43m \u001b[49m\u001b[43mmodel_type\u001b[49m\u001b[38;5;241;43m=\u001b[39;49m\u001b[38;5;124;43m\"\u001b[39;49m\u001b[38;5;124;43mllama\u001b[39;49m\u001b[38;5;124;43m\"\u001b[39;49m\u001b[43m,\u001b[49m\u001b[43m \u001b[49m\u001b[43mprecision\u001b[49m\u001b[38;5;241;43m=\u001b[39;49m\u001b[38;5;241;43m3\u001b[39;49m\u001b[43m,\u001b[49m\u001b[43m \u001b[49m\u001b[43moffsets\u001b[49m\u001b[38;5;241;43m=\u001b[39;49m\u001b[43moffset_prey\u001b[49m\u001b[43m[\u001b[49m\u001b[43mcheck_rn\u001b[49m\u001b[43m]\u001b[49m\u001b[43m,\u001b[49m\u001b[43m \u001b[49m\u001b[43mscale_factors\u001b[49m\u001b[38;5;241;43m=\u001b[39;49m\u001b[43mscale_prey\u001b[49m\u001b[43m[\u001b[49m\u001b[43mcheck_rn\u001b[49m\u001b[43m]\u001b[49m\u001b[43m)\u001b[49m[:forecast_length]\n\u001b[1;32m      7\u001b[0m pred_decoded_response \u001b[38;5;241m=\u001b[39m ts_decoding(pred_decoded_response, model_type\u001b[38;5;241m=\u001b[39m\u001b[38;5;124m\"\u001b[39m\u001b[38;5;124mllama\u001b[39m\u001b[38;5;124m\"\u001b[39m, precision\u001b[38;5;241m=\u001b[39m\u001b[38;5;241m3\u001b[39m, offsets\u001b[38;5;241m=\u001b[39moffset_pred[check_rn], scale_factors\u001b[38;5;241m=\u001b[39mscale_pred[check_rn])[:forecast_length]\n",
      "File \u001b[0;32m~/am3353/utils/preprocess.py:87\u001b[0m, in \u001b[0;36mts_decoding\u001b[0;34m(tokenized_series, model_type, precision, offsets, scale_factors)\u001b[0m\n\u001b[1;32m     84\u001b[0m     \u001b[38;5;28;01melse\u001b[39;00m:\n\u001b[1;32m     85\u001b[0m         \u001b[38;5;28;01mraise\u001b[39;00m \u001b[38;5;167;01mValueError\u001b[39;00m(\u001b[38;5;124m\"\u001b[39m\u001b[38;5;124mmodel_type must be \u001b[39m\u001b[38;5;124m'\u001b[39m\u001b[38;5;124mgpt\u001b[39m\u001b[38;5;124m'\u001b[39m\u001b[38;5;124m or \u001b[39m\u001b[38;5;124m'\u001b[39m\u001b[38;5;124mllama\u001b[39m\u001b[38;5;124m'\u001b[39m\u001b[38;5;124m\"\u001b[39m)\n\u001b[0;32m---> 87\u001b[0m     decoded_series\u001b[38;5;241m.\u001b[39mappend([\u001b[38;5;28mfloat\u001b[39m(x) \u001b[38;5;28;01mfor\u001b[39;00m x \u001b[38;5;129;01min\u001b[39;00m values])\n\u001b[1;32m     89\u001b[0m decoded_series \u001b[38;5;241m=\u001b[39m np\u001b[38;5;241m.\u001b[39marray(decoded_series)\n\u001b[1;32m     91\u001b[0m \u001b[38;5;66;03m# Apply denormalization if offsets and scale_factors are provided\u001b[39;00m\n",
      "File \u001b[0;32m~/am3353/utils/preprocess.py:87\u001b[0m, in \u001b[0;36m<listcomp>\u001b[0;34m(.0)\u001b[0m\n\u001b[1;32m     84\u001b[0m     \u001b[38;5;28;01melse\u001b[39;00m:\n\u001b[1;32m     85\u001b[0m         \u001b[38;5;28;01mraise\u001b[39;00m \u001b[38;5;167;01mValueError\u001b[39;00m(\u001b[38;5;124m\"\u001b[39m\u001b[38;5;124mmodel_type must be \u001b[39m\u001b[38;5;124m'\u001b[39m\u001b[38;5;124mgpt\u001b[39m\u001b[38;5;124m'\u001b[39m\u001b[38;5;124m or \u001b[39m\u001b[38;5;124m'\u001b[39m\u001b[38;5;124mllama\u001b[39m\u001b[38;5;124m'\u001b[39m\u001b[38;5;124m\"\u001b[39m)\n\u001b[0;32m---> 87\u001b[0m     decoded_series\u001b[38;5;241m.\u001b[39mappend([\u001b[38;5;28;43mfloat\u001b[39;49m\u001b[43m(\u001b[49m\u001b[43mx\u001b[49m\u001b[43m)\u001b[49m \u001b[38;5;28;01mfor\u001b[39;00m x \u001b[38;5;129;01min\u001b[39;00m values])\n\u001b[1;32m     89\u001b[0m decoded_series \u001b[38;5;241m=\u001b[39m np\u001b[38;5;241m.\u001b[39marray(decoded_series)\n\u001b[1;32m     91\u001b[0m \u001b[38;5;66;03m# Apply denormalization if offsets and scale_factors are provided\u001b[39;00m\n",
      "\u001b[0;31mValueError\u001b[0m: could not convert string to float: ''"
     ]
    }
   ],
   "source": [
    "prey_decoded_response, pred_decoded_response = extract_forecasts(prey_pred_response)\n",
    "\n",
    "print(len(prey_decoded_response), len(pred_decoded_response))\n",
    "print(prey_decoded_response)\n",
    "\n",
    "prey_decoded_response = ts_decoding(prey_decoded_response, model_type=\"llama\", precision=3, offsets=offset_prey[check_rn], scale_factors=scale_prey[check_rn])[:forecast_length]\n",
    "pred_decoded_response = ts_decoding(pred_decoded_response, model_type=\"llama\", precision=3, offsets=offset_pred[check_rn], scale_factors=scale_pred[check_rn])[:forecast_length]"
   ]
  },
  {
   "cell_type": "code",
   "execution_count": null,
   "metadata": {},
   "outputs": [],
   "source": [
    "fig, axs = plt.subplots(1, 2, figsize = (15, 5))\n",
    "\n",
    "axs[0].plot(time_data_past, data_prey[check_rn].tolist(), label = 'Past Data')\n",
    "axs[0].plot(time_data_true[:len(prey_decoded_response)], prey_decoded_response, label = 'Prediction', marker = '.')\n",
    "axs[0].plot(time_data_true, data_prey_true[check_rn].tolist(), label = 'Truth', marker = '.')\n",
    "\n",
    "axs[0].set_title('Prey-Population (Joint)')\n",
    "axs[0].set_xlabel('time')\n",
    "axs[0].legend()\n",
    "\n",
    "axs[1].plot(time_data_past, data_pred[check_rn].tolist(), label = 'Past Data')\n",
    "axs[1].plot(time_data_true[:len(prey_decoded_response)], pred_decoded_response, label = 'Prediction', marker = '.')\n",
    "axs[1].plot(time_data_true, data_pred_true[check_rn].tolist(), label = 'Truth', marker = '.')\n",
    "\n",
    "axs[1].set_title('Predator-Population (Joint)')\n",
    "axs[1].set_xlabel('time')\n",
    "axs[1].legend()\n",
    "\n",
    "plt.show()\n",
    "\n",
    "\n",
    "''' \n",
    "Jointly show them in the same plot \n",
    "'''\n",
    "print()\n",
    "\n",
    "plt.plot(time_data_past, data_prey[check_rn].tolist(), label = 'Past Data')\n",
    "plt.plot(time_data_true, prey_decoded_response, label = 'Prediction', marker = '.')\n",
    "plt.plot(time_data_true, data_prey_true[check_rn].tolist(), label = 'Truth', marker = '.')\n",
    "\n",
    "plt.plot(time_data_past, data_pred[check_rn].tolist(), label = 'Past Data')\n",
    "plt.plot(time_data_true, pred_decoded_response, label = 'Prediction', marker = '.')\n",
    "plt.plot(time_data_true, data_pred_true[check_rn].tolist(), label = 'Truth', marker = '.')\n",
    "\n",
    "plt.xlabel('time')\n",
    "plt.title('Prey-Predator-Population (Joint)')\n",
    "plt.legend()\n",
    "plt.show()\n"
   ]
  },
  {
   "cell_type": "code",
   "execution_count": null,
   "metadata": {},
   "outputs": [],
   "source": []
  },
  {
   "cell_type": "code",
   "execution_count": null,
   "metadata": {},
   "outputs": [],
   "source": []
  },
  {
   "cell_type": "code",
   "execution_count": null,
   "metadata": {},
   "outputs": [],
   "source": []
  },
  {
   "cell_type": "code",
   "execution_count": null,
   "metadata": {},
   "outputs": [],
   "source": []
  }
 ],
 "metadata": {
  "kernelspec": {
   "display_name": "m2-env",
   "language": "python",
   "name": "python3"
  },
  "language_info": {
   "codemirror_mode": {
    "name": "ipython",
    "version": 3
   },
   "file_extension": ".py",
   "mimetype": "text/x-python",
   "name": "python",
   "nbconvert_exporter": "python",
   "pygments_lexer": "ipython3",
   "version": "3.10.12"
  }
 },
 "nbformat": 4,
 "nbformat_minor": 2
}
