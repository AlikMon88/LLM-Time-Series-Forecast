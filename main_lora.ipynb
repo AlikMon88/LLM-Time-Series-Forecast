{
 "cells": [
  {
   "cell_type": "code",
   "execution_count": 1,
   "metadata": {},
   "outputs": [
    {
     "name": "stderr",
     "output_type": "stream",
     "text": [
      "/home/am3353/am3353/m2-env/lib/python3.10/site-packages/tqdm/auto.py:21: TqdmWarning: IProgress not found. Please update jupyter and ipywidgets. See https://ipywidgets.readthedocs.io/en/stable/user_install.html\n",
      "  from .autonotebook import tqdm as notebook_tqdm\n"
     ]
    }
   ],
   "source": [
    "import numpy as np\n",
    "import matplotlib.pyplot as plt\n",
    "import transformers\n",
    "import os\n",
    "import random\n",
    "import h5py\n",
    "import pandas as pd\n",
    "import time\n",
    "import importlib\n",
    "from pprint import pprint\n",
    "import torch \n",
    "from tqdm import tqdm\n",
    "from src.qwen import load_qwen\n",
    "import re\n",
    "import yaml\n",
    "import json\n",
    "import gc\n",
    "from torch.utils.data import TensorDataset, DataLoader\n",
    "import transformers\n",
    "from transformers import AutoModelForCausalLM"
   ]
  },
  {
   "cell_type": "code",
   "execution_count": 2,
   "metadata": {},
   "outputs": [
    {
     "name": "stdout",
     "output_type": "stream",
     "text": [
      "Device-activated:  cpu\n"
     ]
    }
   ],
   "source": [
    "device = 'cuda' if torch.cuda.is_available() else 'cpu' \n",
    "print('Device-activated: ', device)\n",
    "\n",
    "file_path = \"data/lotka_volterra_data.h5\"  # Change this to the correct path  Out [9]:  Device-activated:  cpu\n",
    "final_model_config_path = 'saves/hyper/hyperparameter_results.json'\n",
    "final_model_path = 'saves/final_model.pt'"
   ]
  },
  {
   "cell_type": "code",
   "execution_count": 3,
   "metadata": {},
   "outputs": [
    {
     "name": "stdout",
     "output_type": "stream",
     "text": [
      "Architecture:        x86_64\n",
      "CPU op-mode(s):      32-bit, 64-bit\n",
      "Byte Order:          Little Endian\n",
      "CPU(s):              76\n",
      "On-line CPU(s) list: 0-75\n",
      "Thread(s) per core:  1\n",
      "Core(s) per socket:  38\n",
      "Socket(s):           2\n",
      "NUMA node(s):        2\n",
      "Vendor ID:           GenuineIntel\n",
      "CPU family:          6\n",
      "Model:               106\n",
      "Model name:          Intel(R) Xeon(R) Platinum 8368Q CPU @ 2.60GHz\n",
      "Stepping:            6\n",
      "CPU MHz:             800.000\n",
      "CPU max MHz:         3700.0000\n",
      "CPU min MHz:         800.0000\n",
      "BogoMIPS:            5200.00\n",
      "L1d cache:           48K\n",
      "L1i cache:           32K\n",
      "L2 cache:            1280K\n",
      "L3 cache:            58368K\n",
      "NUMA node0 CPU(s):   0,2,4,6,8,10,12,14,16,18,20,22,24,26,28,30,32,34,36,38,40,42,44,46,48,50,52,54,56,58,60,62,64,66,68,70,72,74\n",
      "NUMA node1 CPU(s):   1,3,5,7,9,11,13,15,17,19,21,23,25,27,29,31,33,35,37,39,41,43,45,47,49,51,53,55,57,59,61,63,65,67,69,71,73,75\n",
      "Flags:               fpu vme de pse tsc msr pae mce cx8 apic sep mtrr pge mca cmov pat pse36 clflush dts acpi mmx fxsr sse sse2 ss ht tm pbe syscall nx pdpe1gb rdtscp lm constant_tsc art arch_perfmon pebs bts rep_good nopl xtopology nonstop_tsc cpuid aperfmperf pni pclmulqdq dtes64 monitor ds_cpl smx est tm2 ssse3 sdbg fma cx16 xtpr pdcm pcid dca sse4_1 sse4_2 x2apic movbe popcnt tsc_deadline_timer aes xsave avx f16c rdrand lahf_lm abm 3dnowprefetch cpuid_fault epb cat_l3 invpcid_single intel_ppin ssbd mba ibrs ibpb stibp ibrs_enhanced fsgsbase tsc_adjust bmi1 avx2 smep bmi2 erms invpcid cqm rdt_a avx512f avx512dq rdseed adx smap avx512ifma clflushopt clwb intel_pt avx512cd sha_ni avx512bw avx512vl xsaveopt xsavec xgetbv1 xsaves cqm_llc cqm_occup_llc cqm_mbm_total cqm_mbm_local split_lock_detect wbnoinvd dtherm ida arat pln pts avx512vbmi umip pku ospke avx512_vbmi2 gfni vaes vpclmulqdq avx512_vnni avx512_bitalg tme avx512_vpopcntdq la57 rdpid fsrm md_clear pconfig flush_l1d arch_capabilities\n"
     ]
    }
   ],
   "source": [
    "!lscpu"
   ]
  },
  {
   "cell_type": "code",
   "execution_count": 4,
   "metadata": {},
   "outputs": [],
   "source": [
    "import src\n",
    "import src.data_prepare_ntbk\n",
    "import src.forecast \n",
    "import src.preprocess\n",
    "import src.lora \n",
    "import src.data_create\n",
    "\n",
    "importlib.reload(src)\n",
    "importlib.reload(src.forecast)\n",
    "importlib.reload(src.preprocess)\n",
    "importlib.reload(src.lora)\n",
    "importlib.reload(src.data_create)\n",
    "importlib.reload(src.data_prepare_ntbk)\n",
    "\n",
    "from src.forecast import *\n",
    "from src.lora import LoRALinear\n",
    "from src.preprocess import *\n",
    "from src.data_create import *\n",
    "from src.data_prepare_ntbk import *  "
   ]
  },
  {
   "cell_type": "code",
   "execution_count": 5,
   "metadata": {},
   "outputs": [],
   "source": [
    "random_state = 28\n",
    "np.random.seed(random_state)     "
   ]
  },
  {
   "cell_type": "code",
   "execution_count": 13,
   "metadata": {},
   "outputs": [
    {
     "name": "stderr",
     "output_type": "stream",
     "text": [
      "Sliding Window Attention is enabled but not implemented for `sdpa`; unexpected results may be encountered.\n"
     ]
    },
    {
     "name": "stdout",
     "output_type": "stream",
     "text": [
      "time-taken:  0.18628784815470378 mins\n"
     ]
    }
   ],
   "source": [
    "ft = time.time()\n",
    "_, tokenizer = load_qwen()\n",
    "lt = time.time()\n",
    "\n",
    "print('time-taken: ', (lt - ft)/60, 'mins') \n",
    "\n",
    "# pprint(model_lora.config)"
   ]
  },
  {
   "cell_type": "markdown",
   "metadata": {},
   "source": [
    "Can directly load modified model --> LoRATrainer.get_model()"
   ]
  },
  {
   "cell_type": "code",
   "execution_count": 8,
   "metadata": {},
   "outputs": [],
   "source": [
    "def load_config(config_path):\n",
    "    with open(config_path, \"r\") as file:\n",
    "        config = yaml.safe_load(file)\n",
    "    return config"
   ]
  },
  {
   "cell_type": "code",
   "execution_count": 9,
   "metadata": {},
   "outputs": [],
   "source": [
    "manual_config = load_config(\"src/config.yaml\")  \n",
    "\n",
    "train_split = manual_config['train_split']\n",
    "time_step_split = manual_config['time_step_split']\n",
    "batch_size = manual_config['batch_size']\n",
    "learning_rate = manual_config['learning_rate'] # 1e-5\n",
    "lora_rank = manual_config['lora_rank']\n",
    "max_ctx_length = manual_config['seq_length']\n",
    "forecast_length = manual_config['forecast_length']\n",
    "max_tokens = manual_config['seq_length']  "
   ]
  },
  {
   "cell_type": "markdown",
   "metadata": {},
   "source": [
    "##### Final Model Config"
   ]
  },
  {
   "cell_type": "code",
   "execution_count": 6,
   "metadata": {},
   "outputs": [
    {
     "name": "stdout",
     "output_type": "stream",
     "text": [
      "lora-rank:  8 , context-length:  768 , max-tokens:  768\n"
     ]
    }
   ],
   "source": [
    "with open(final_model_config_path, 'r') as file:\n",
    "        best_config = json.load(file)\n",
    "file.close()\n",
    "\n",
    "best_config = best_config[1]\n",
    "lora_rank = best_config['lora_rank']\n",
    "max_ctx_length = best_config['context_length']\n",
    "max_tokens = best_config['context_length']\n",
    "\n",
    "print('lora-rank: ', lora_rank, ', context-length: ', max_ctx_length, ', max-tokens: ', max_tokens)"
   ]
  },
  {
   "cell_type": "code",
   "execution_count": null,
   "metadata": {},
   "outputs": [],
   "source": [
    "# model_lora.config.max_position_embeddings = max_ctx_length"
   ]
  },
  {
   "cell_type": "code",
   "execution_count": 10,
   "metadata": {},
   "outputs": [
    {
     "name": "stdout",
     "output_type": "stream",
     "text": [
      "Keys in HDF5 file: ['time', 'trajectories']\n",
      "(1000, 80) (1000, 21) (1000, 80) (1000, 21) (80,) (21,)\n",
      "check_rn:  875\n"
     ]
    }
   ],
   "source": [
    "data_prey, data_prey_true, data_pred, data_pred_true, time_data_past, time_data_true = load_data(file_path, time_step_split, is_plot = True)\n",
    "print(data_prey.shape, data_prey_true.shape, data_pred.shape, data_pred_true.shape, time_data_past.shape, time_data_true.shape)\n",
    "\n",
    "check_rn = random.randint(0, len(data_prey))\n",
    "print('check_rn: ', check_rn)"
   ]
  },
  {
   "cell_type": "code",
   "execution_count": 11,
   "metadata": {},
   "outputs": [
    {
     "data": {
      "image/png": "[encoded data removed]",
      "text/plain": [
       "<Figure size 900x400 with 1 Axes>"
      ]
     },
     "metadata": {},
     "output_type": "display_data"
    }
   ],
   "source": [
    "fig = plt.figure(figsize=(9, 4))\n",
    "\n",
    "plt.plot(time_data_past, data_prey[check_rn], label = 'prey')\n",
    "plt.plot(time_data_past, data_pred[check_rn], label = 'predator')\n",
    "\n",
    "plt.plot(time_data_true, data_prey_true[check_rn], label = 'prey_truth', marker = '.')\n",
    "plt.plot(time_data_true, data_pred_true[check_rn], label = 'predator_truth', marker = '.')\n",
    "\n",
    "plt.xlabel('time')\n",
    "plt.ylabel('population')\n",
    "\n",
    "plt.legend()\n",
    "plt.title(f'Prey-Predator Evolution | idx: {check_rn}')\n",
    "plt.show()  "
   ]
  },
  {
   "cell_type": "code",
   "execution_count": 14,
   "metadata": {},
   "outputs": [
    {
     "name": "stdout",
     "output_type": "stream",
     "text": [
      "torch.Size([900, 512]) torch.Size([100, 512]) (100,)\n"
     ]
    }
   ],
   "source": [
    "train_input_ids, val_input_ids, prey_os, pred_os, test_encoded = prepare_data(data_prey, data_pred, tokenizer, max_ctx_length, train_split, forecast_length=forecast_length, is_forecast=True)\n",
    "print(train_input_ids.shape, val_input_ids.shape, test_encoded.shape)"
   ]
  },
  {
   "cell_type": "code",
   "execution_count": 15,
   "metadata": {},
   "outputs": [],
   "source": [
    "train_dataset = TensorDataset(train_input_ids)\n",
    "train_loader = DataLoader(train_dataset, batch_size=batch_size, shuffle=True)\n",
    "\n",
    "val_dataset = TensorDataset(val_input_ids)\n",
    "val_loader = DataLoader(val_dataset, batch_size=batch_size)  "
   ]
  },
  {
   "cell_type": "code",
   "execution_count": 16,
   "metadata": {},
   "outputs": [
    {
     "name": "stdout",
     "output_type": "stream",
     "text": [
      "torch.Size([4, 512]) torch.Size([4, 512])\n"
     ]
    }
   ],
   "source": [
    "for batch_t, batch_v in zip(train_loader, val_loader):\n",
    "    print(batch_t[0].shape, batch_v[0].shape)\n",
    "    break"
   ]
  },
  {
   "cell_type": "markdown",
   "metadata": {},
   "source": [
    "##### LoRA - Change (For Verification)"
   ]
  },
  {
   "cell_type": "code",
   "execution_count": null,
   "metadata": {},
   "outputs": [],
   "source": [
    "# ### replacing attention layers with trainable layers (r * in_dim) + (out_dim * r)\n",
    "# for layer in model_lora.model.layers:\n",
    "#     layer.self_attn.q_proj = LoRALinear(layer.self_attn.q_proj, r=lora_rank) \n",
    "#     layer.self_attn.v_proj = LoRALinear(layer.self_attn.v_proj, r=lora_rank)  "
   ]
  },
  {
   "cell_type": "code",
   "execution_count": null,
   "metadata": {},
   "outputs": [
    {
     "name": "stdout",
     "output_type": "stream",
     "text": [
      "Total Parameters: 494,725,376\n",
      "Trainable Parameters: 692,608\n"
     ]
    }
   ],
   "source": [
    "# def get_model_params(model):\n",
    "#         total_params = sum(p.numel() for p in model.parameters())\n",
    "#         trainable_params = sum(p.numel() for p in model.parameters() if p.requires_grad)\n",
    "#         return total_params, trainable_params\n",
    "\n",
    "# total, trainable = get_model_params(model_lora)\n",
    "# print(f\"Total Parameters: {total:,}\")\n",
    "# print(f\"Trainable Parameters: {trainable:,}\") ## 100x lesser"
   ]
  },
  {
   "cell_type": "code",
   "execution_count": null,
   "metadata": {},
   "outputs": [],
   "source": [
    "# optimizer = torch.optim.Adam((p for p in model_lora.parameters() if p.requires_grad), lr=learning_rate)"
   ]
  },
  {
   "cell_type": "code",
   "execution_count": null,
   "metadata": {},
   "outputs": [],
   "source": [
    "# # accelerator = Accelerator()\n",
    "# # model_lora, optimizer, train_loader, val_loader = accelerator.prepare(model_lora, optimizer, train_loader, val_loader)\n",
    "\n",
    "# model_lora.train()\n",
    "\n",
    "# target_steps = manual_config['training_steps']  # Optimization Steps\n",
    "# print('Target-Train-Steps:', target_steps)\n",
    "\n",
    "# train_steps = 0\n",
    "# progress_bar = tqdm(range(target_steps), desc=\"Training Steps\")\n",
    "\n",
    "# train_curve, val_curve = [], []\n",
    "\n",
    "# ft = time.time()\n",
    "\n",
    "# while train_steps < target_steps:\n",
    "#     for batch_input_ids, batch_target_ids in train_loader:\n",
    "#         optimizer.zero_grad()\n",
    "#         outputs = model_lora(batch_input_ids, labels=batch_target_ids)  # Use target_ids\n",
    "#         loss = outputs.loss  # Loss function is a model attribute\n",
    "#         loss.backward()\n",
    "#         optimizer.step()\n",
    "\n",
    "#         train_curve.append(loss.detach().cpu().item())  # Store loss for monitoring\n",
    "\n",
    "#         train_steps += 1\n",
    "#         progress_bar.update(1)\n",
    "#         progress_bar.set_postfix(loss=loss.item())\n",
    "        \n",
    "#         ### FOR EVERY TRAINING-STEP WE RUN V-B BATCH 0(T_B * V_B)\n",
    "#         # Validation Loop\n",
    "\n",
    "#         model_lora.eval()\n",
    "#         val_losses = []\n",
    "\n",
    "#         with torch.no_grad():\n",
    "#             for batch_input_ids, batch_target_ids in val_loader:\n",
    "#                 val_op = model_lora(batch_input_ids, labels=batch_target_ids)\n",
    "#                 val_losses.append(val_op.loss.cpu().item())\n",
    "            \n",
    "#             # Calculate average validation loss\n",
    "#             avg_val_loss = sum(val_losses) / len(val_losses)\n",
    "#             val_curve.append(avg_val_loss)\n",
    "            \n",
    "#         if train_steps >= target_steps:  # Stop training at the required steps\n",
    "#             break\n",
    "        \n",
    "#         model_lora.train()  # Resume training mode\n",
    "    \n",
    "# lt = time.time()\n",
    "# print('Time taken:', (lt - ft) / 60, 'mins')\n",
    "\n",
    "# model_lora.eval()"
   ]
  },
  {
   "cell_type": "code",
   "execution_count": null,
   "metadata": {},
   "outputs": [],
   "source": [
    "# plt.plot(range(len(train_curve)), train_curve, color = 'red', marker = '.', label = 'Train')\n",
    "# plt.plot(range(len(val_curve)), val_curve, color = 'blue', marker = '.', label = 'Validation')\n",
    "\n",
    "# plt.ylabel('Loss')\n",
    "# plt.xlabel('#Optimization Steps')\n",
    "\n",
    "# plt.title('Loss-Curve')\n",
    "\n",
    "# plt.legend()\n",
    "# plt.grid()\n",
    "# plt.show()"
   ]
  },
  {
   "cell_type": "markdown",
   "metadata": {},
   "source": [
    "#### Loading Saved Model (Direct Architechture + Weights Load)"
   ]
  },
  {
   "cell_type": "code",
   "execution_count": 18,
   "metadata": {},
   "outputs": [],
   "source": [
    "# final_model_path = 'saves/best_final_model.pt' ### ran through final_model.py\n",
    "\n",
    "# check_model_path = 'saves/final_model.pt' ### ran throung lora_train.py (changed to lora_model.pt)\n",
    "check_model_path = 'saves/lora_model.pt' ### ran throung lora_train.py (changed to lora_model.pt)"
   ]
  },
  {
   "cell_type": "code",
   "execution_count": 19,
   "metadata": {},
   "outputs": [
    {
     "name": "stderr",
     "output_type": "stream",
     "text": [
      "Some weights of the model checkpoint at saves/lora_model.pt were not used when initializing Qwen2ForCausalLM: {'model.layers.3.self_attn.q_proj.B', 'model.layers.12.self_attn.v_proj.original_linear.bias', 'model.layers.9.self_attn.q_proj.A', 'model.layers.6.self_attn.q_proj.original_linear.bias', 'model.layers.11.self_attn.q_proj.original_linear.bias', 'model.layers.14.self_attn.v_proj.B', 'model.layers.22.self_attn.v_proj.B', 'model.layers.14.self_attn.q_proj.original_linear.bias', 'model.layers.18.self_attn.v_proj.original_linear.weight', 'model.layers.17.self_attn.q_proj.A', 'model.layers.18.self_attn.q_proj.A', 'model.layers.13.self_attn.q_proj.original_linear.weight', 'model.layers.13.self_attn.v_proj.B', 'model.layers.20.self_attn.v_proj.B', 'model.layers.6.self_attn.v_proj.original_linear.bias', 'model.layers.4.self_attn.q_proj.original_linear.weight', 'model.layers.0.self_attn.v_proj.A', 'model.layers.11.self_attn.q_proj.original_linear.weight', 'model.layers.0.self_attn.q_proj.B', 'model.layers.5.self_attn.v_proj.A', 'model.layers.17.self_attn.q_proj.original_linear.bias', 'model.layers.0.self_attn.q_proj.original_linear.bias', 'model.layers.3.self_attn.q_proj.original_linear.bias', 'model.layers.17.self_attn.q_proj.original_linear.weight', 'model.layers.19.self_attn.q_proj.original_linear.weight', 'model.layers.14.self_attn.v_proj.A', 'model.layers.15.self_attn.v_proj.original_linear.bias', 'model.layers.10.self_attn.q_proj.A', 'model.layers.23.self_attn.q_proj.B', 'model.layers.17.self_attn.v_proj.original_linear.bias', 'model.layers.20.self_attn.q_proj.original_linear.bias', 'model.layers.21.self_attn.v_proj.A', 'model.layers.15.self_attn.v_proj.original_linear.weight', 'model.layers.1.self_attn.q_proj.B', 'model.layers.18.self_attn.q_proj.B', 'model.layers.16.self_attn.q_proj.original_linear.bias', 'model.layers.13.self_attn.q_proj.A', 'model.layers.18.self_attn.q_proj.original_linear.weight', 'model.layers.18.self_attn.v_proj.original_linear.bias', 'model.layers.4.self_attn.v_proj.original_linear.bias', 'model.layers.10.self_attn.q_proj.original_linear.weight', 'model.layers.4.self_attn.q_proj.original_linear.bias', 'model.layers.8.self_attn.q_proj.A', 'model.layers.12.self_attn.q_proj.original_linear.bias', 'model.layers.6.self_attn.v_proj.B', 'model.layers.8.self_attn.v_proj.original_linear.bias', 'model.layers.11.self_attn.v_proj.original_linear.bias', 'model.layers.0.self_attn.v_proj.original_linear.bias', 'model.layers.16.self_attn.v_proj.original_linear.weight', 'model.layers.3.self_attn.v_proj.original_linear.bias', 'model.layers.7.self_attn.v_proj.B', 'model.layers.2.self_attn.q_proj.original_linear.weight', 'model.layers.12.self_attn.v_proj.original_linear.weight', 'model.layers.13.self_attn.q_proj.original_linear.bias', 'model.layers.3.self_attn.v_proj.original_linear.weight', 'model.layers.13.self_attn.q_proj.B', 'model.layers.11.self_attn.v_proj.B', 'model.layers.22.self_attn.q_proj.original_linear.weight', 'model.layers.0.self_attn.v_proj.original_linear.weight', 'model.layers.23.self_attn.v_proj.original_linear.weight', 'model.layers.3.self_attn.q_proj.A', 'model.layers.12.self_attn.v_proj.A', 'model.layers.22.self_attn.q_proj.B', 'model.layers.1.self_attn.v_proj.original_linear.weight', 'model.layers.18.self_attn.v_proj.B', 'model.layers.10.self_attn.q_proj.B', 'model.layers.21.self_attn.q_proj.original_linear.weight', 'model.layers.6.self_attn.q_proj.B', 'model.layers.16.self_attn.q_proj.A', 'model.layers.11.self_attn.v_proj.A', 'model.layers.3.self_attn.v_proj.A', 'model.layers.15.self_attn.q_proj.A', 'model.layers.11.self_attn.q_proj.A', 'model.layers.6.self_attn.q_proj.A', 'model.layers.21.self_attn.q_proj.A', 'model.layers.4.self_attn.v_proj.B', 'model.layers.7.self_attn.v_proj.original_linear.bias', 'model.layers.19.self_attn.q_proj.B', 'model.layers.13.self_attn.v_proj.original_linear.bias', 'model.layers.10.self_attn.v_proj.original_linear.bias', 'model.layers.1.self_attn.q_proj.A', 'model.layers.15.self_attn.q_proj.original_linear.bias', 'model.layers.15.self_attn.q_proj.B', 'model.layers.21.self_attn.v_proj.original_linear.bias', 'model.layers.23.self_attn.q_proj.original_linear.weight', 'model.layers.9.self_attn.q_proj.original_linear.weight', 'model.layers.19.self_attn.v_proj.B', 'model.layers.15.self_attn.v_proj.A', 'model.layers.17.self_attn.v_proj.A', 'model.layers.3.self_attn.v_proj.B', 'model.layers.6.self_attn.v_proj.A', 'model.layers.19.self_attn.v_proj.original_linear.weight', 'model.layers.8.self_attn.q_proj.B', 'model.layers.7.self_attn.q_proj.A', 'model.layers.22.self_attn.q_proj.original_linear.bias', 'model.layers.14.self_attn.v_proj.original_linear.bias', 'model.layers.17.self_attn.v_proj.B', 'model.layers.12.self_attn.q_proj.B', 'model.layers.8.self_attn.q_proj.original_linear.weight', 'model.layers.10.self_attn.q_proj.original_linear.bias', 'model.layers.0.self_attn.v_proj.B', 'model.layers.15.self_attn.v_proj.B', 'model.layers.2.self_attn.q_proj.original_linear.bias', 'model.layers.17.self_attn.q_proj.B', 'model.layers.20.self_attn.q_proj.B', 'model.layers.22.self_attn.v_proj.original_linear.weight', 'model.layers.20.self_attn.v_proj.A', 'model.layers.21.self_attn.v_proj.original_linear.weight', 'model.layers.5.self_attn.q_proj.original_linear.bias', 'model.layers.23.self_attn.q_proj.original_linear.bias', 'model.layers.5.self_attn.v_proj.original_linear.bias', 'model.layers.8.self_attn.v_proj.B', 'model.layers.23.self_attn.q_proj.A', 'model.layers.23.self_attn.v_proj.B', 'model.layers.15.self_attn.q_proj.original_linear.weight', 'model.layers.16.self_attn.v_proj.B', 'model.layers.10.self_attn.v_proj.original_linear.weight', 'model.layers.11.self_attn.v_proj.original_linear.weight', 'model.layers.7.self_attn.q_proj.original_linear.bias', 'model.layers.2.self_attn.v_proj.original_linear.weight', 'model.layers.5.self_attn.v_proj.B', 'model.layers.5.self_attn.q_proj.B', 'model.layers.20.self_attn.q_proj.A', 'model.layers.4.self_attn.q_proj.B', 'model.layers.9.self_attn.q_proj.original_linear.bias', 'model.layers.20.self_attn.v_proj.original_linear.weight', 'model.layers.12.self_attn.v_proj.B', 'model.layers.1.self_attn.q_proj.original_linear.bias', 'model.layers.20.self_attn.q_proj.original_linear.weight', 'model.layers.14.self_attn.q_proj.original_linear.weight', 'model.layers.6.self_attn.q_proj.original_linear.weight', 'model.layers.21.self_attn.q_proj.original_linear.bias', 'model.layers.5.self_attn.v_proj.original_linear.weight', 'model.layers.1.self_attn.q_proj.original_linear.weight', 'model.layers.21.self_attn.v_proj.B', 'model.layers.23.self_attn.v_proj.A', 'model.layers.18.self_attn.v_proj.A', 'model.layers.0.self_attn.q_proj.original_linear.weight', 'model.layers.16.self_attn.q_proj.original_linear.weight', 'model.layers.7.self_attn.q_proj.original_linear.weight', 'model.layers.22.self_attn.q_proj.A', 'model.layers.5.self_attn.q_proj.original_linear.weight', 'model.layers.1.self_attn.v_proj.original_linear.bias', 'model.layers.0.self_attn.q_proj.A', 'model.layers.8.self_attn.v_proj.original_linear.weight', 'model.layers.19.self_attn.q_proj.A', 'model.layers.14.self_attn.q_proj.A', 'model.layers.4.self_attn.q_proj.A', 'model.layers.9.self_attn.v_proj.original_linear.weight', 'model.layers.11.self_attn.q_proj.B', 'model.layers.2.self_attn.v_proj.A', 'model.layers.8.self_attn.q_proj.original_linear.bias', 'model.layers.7.self_attn.v_proj.original_linear.weight', 'model.layers.13.self_attn.v_proj.A', 'model.layers.16.self_attn.v_proj.original_linear.bias', 'model.layers.19.self_attn.v_proj.original_linear.bias', 'model.layers.6.self_attn.v_proj.original_linear.weight', 'model.layers.2.self_attn.v_proj.original_linear.bias', 'model.layers.5.self_attn.q_proj.A', 'model.layers.17.self_attn.v_proj.original_linear.weight', 'lm_head.bias', 'model.layers.9.self_attn.v_proj.A', 'model.layers.1.self_attn.v_proj.B', 'model.layers.13.self_attn.v_proj.original_linear.weight', 'model.layers.2.self_attn.v_proj.B', 'model.layers.16.self_attn.v_proj.A', 'model.layers.18.self_attn.q_proj.original_linear.bias', 'model.layers.10.self_attn.v_proj.A', 'model.layers.7.self_attn.v_proj.A', 'model.layers.19.self_attn.q_proj.original_linear.bias', 'model.layers.3.self_attn.q_proj.original_linear.weight', 'model.layers.2.self_attn.q_proj.A', 'model.layers.20.self_attn.v_proj.original_linear.bias', 'model.layers.14.self_attn.v_proj.original_linear.weight', 'model.layers.19.self_attn.v_proj.A', 'model.layers.2.self_attn.q_proj.B', 'model.layers.23.self_attn.v_proj.original_linear.bias', 'model.layers.1.self_attn.v_proj.A', 'model.layers.10.self_attn.v_proj.B', 'model.layers.7.self_attn.q_proj.B', 'model.layers.8.self_attn.v_proj.A', 'model.layers.4.self_attn.v_proj.original_linear.weight', 'model.layers.16.self_attn.q_proj.B', 'model.layers.22.self_attn.v_proj.original_linear.bias', 'model.layers.22.self_attn.v_proj.A', 'model.layers.4.self_attn.v_proj.A', 'model.layers.9.self_attn.v_proj.B', 'model.layers.9.self_attn.q_proj.B', 'model.layers.12.self_attn.q_proj.A', 'model.layers.12.self_attn.q_proj.original_linear.weight', 'model.layers.9.self_attn.v_proj.original_linear.bias', 'model.layers.21.self_attn.q_proj.B', 'model.layers.14.self_attn.q_proj.B'}\n",
      "- This IS expected if you are initializing Qwen2ForCausalLM from the checkpoint of a model trained on another task or with another architecture (e.g. initializing a BertForSequenceClassification model from a BertForPreTraining model).\n",
      "- This IS NOT expected if you are initializing Qwen2ForCausalLM from the checkpoint of a model that you expect to be exactly identical (initializing a BertForSequenceClassification model from a BertForSequenceClassification model).\n",
      "Some weights of Qwen2ForCausalLM were not initialized from the model checkpoint at saves/lora_model.pt and are newly initialized: ['model.layers.0.self_attn.q_proj.bias', 'model.layers.0.self_attn.q_proj.weight', 'model.layers.0.self_attn.v_proj.bias', 'model.layers.0.self_attn.v_proj.weight', 'model.layers.1.self_attn.q_proj.bias', 'model.layers.1.self_attn.q_proj.weight', 'model.layers.1.self_attn.v_proj.bias', 'model.layers.1.self_attn.v_proj.weight', 'model.layers.10.self_attn.q_proj.bias', 'model.layers.10.self_attn.q_proj.weight', 'model.layers.10.self_attn.v_proj.bias', 'model.layers.10.self_attn.v_proj.weight', 'model.layers.11.self_attn.q_proj.bias', 'model.layers.11.self_attn.q_proj.weight', 'model.layers.11.self_attn.v_proj.bias', 'model.layers.11.self_attn.v_proj.weight', 'model.layers.12.self_attn.q_proj.bias', 'model.layers.12.self_attn.q_proj.weight', 'model.layers.12.self_attn.v_proj.bias', 'model.layers.12.self_attn.v_proj.weight', 'model.layers.13.self_attn.q_proj.bias', 'model.layers.13.self_attn.q_proj.weight', 'model.layers.13.self_attn.v_proj.bias', 'model.layers.13.self_attn.v_proj.weight', 'model.layers.14.self_attn.q_proj.bias', 'model.layers.14.self_attn.q_proj.weight', 'model.layers.14.self_attn.v_proj.bias', 'model.layers.14.self_attn.v_proj.weight', 'model.layers.15.self_attn.q_proj.bias', 'model.layers.15.self_attn.q_proj.weight', 'model.layers.15.self_attn.v_proj.bias', 'model.layers.15.self_attn.v_proj.weight', 'model.layers.16.self_attn.q_proj.bias', 'model.layers.16.self_attn.q_proj.weight', 'model.layers.16.self_attn.v_proj.bias', 'model.layers.16.self_attn.v_proj.weight', 'model.layers.17.self_attn.q_proj.bias', 'model.layers.17.self_attn.q_proj.weight', 'model.layers.17.self_attn.v_proj.bias', 'model.layers.17.self_attn.v_proj.weight', 'model.layers.18.self_attn.q_proj.bias', 'model.layers.18.self_attn.q_proj.weight', 'model.layers.18.self_attn.v_proj.bias', 'model.layers.18.self_attn.v_proj.weight', 'model.layers.19.self_attn.q_proj.bias', 'model.layers.19.self_attn.q_proj.weight', 'model.layers.19.self_attn.v_proj.bias', 'model.layers.19.self_attn.v_proj.weight', 'model.layers.2.self_attn.q_proj.bias', 'model.layers.2.self_attn.q_proj.weight', 'model.layers.2.self_attn.v_proj.bias', 'model.layers.2.self_attn.v_proj.weight', 'model.layers.20.self_attn.q_proj.bias', 'model.layers.20.self_attn.q_proj.weight', 'model.layers.20.self_attn.v_proj.bias', 'model.layers.20.self_attn.v_proj.weight', 'model.layers.21.self_attn.q_proj.bias', 'model.layers.21.self_attn.q_proj.weight', 'model.layers.21.self_attn.v_proj.bias', 'model.layers.21.self_attn.v_proj.weight', 'model.layers.22.self_attn.q_proj.bias', 'model.layers.22.self_attn.q_proj.weight', 'model.layers.22.self_attn.v_proj.bias', 'model.layers.22.self_attn.v_proj.weight', 'model.layers.23.self_attn.q_proj.bias', 'model.layers.23.self_attn.q_proj.weight', 'model.layers.23.self_attn.v_proj.bias', 'model.layers.23.self_attn.v_proj.weight', 'model.layers.3.self_attn.q_proj.bias', 'model.layers.3.self_attn.q_proj.weight', 'model.layers.3.self_attn.v_proj.bias', 'model.layers.3.self_attn.v_proj.weight', 'model.layers.4.self_attn.q_proj.bias', 'model.layers.4.self_attn.q_proj.weight', 'model.layers.4.self_attn.v_proj.bias', 'model.layers.4.self_attn.v_proj.weight', 'model.layers.5.self_attn.q_proj.bias', 'model.layers.5.self_attn.q_proj.weight', 'model.layers.5.self_attn.v_proj.bias', 'model.layers.5.self_attn.v_proj.weight', 'model.layers.6.self_attn.q_proj.bias', 'model.layers.6.self_attn.q_proj.weight', 'model.layers.6.self_attn.v_proj.bias', 'model.layers.6.self_attn.v_proj.weight', 'model.layers.7.self_attn.q_proj.bias', 'model.layers.7.self_attn.q_proj.weight', 'model.layers.7.self_attn.v_proj.bias', 'model.layers.7.self_attn.v_proj.weight', 'model.layers.8.self_attn.q_proj.bias', 'model.layers.8.self_attn.q_proj.weight', 'model.layers.8.self_attn.v_proj.bias', 'model.layers.8.self_attn.v_proj.weight', 'model.layers.9.self_attn.q_proj.bias', 'model.layers.9.self_attn.q_proj.weight', 'model.layers.9.self_attn.v_proj.bias', 'model.layers.9.self_attn.v_proj.weight']\n",
      "You should probably TRAIN this model on a down-stream task to be able to use it for predictions and inference.\n"
     ]
    }
   ],
   "source": [
    "# model_lora = AutoModelForCausalLM.from_pretrained(final_model_path, trust_remote_code=True)\n",
    "model_lora = AutoModelForCausalLM.from_pretrained(check_model_path, trust_remote_code=True)"
   ]
  },
  {
   "cell_type": "markdown",
   "metadata": {},
   "source": [
    "### Trained-Forecasting"
   ]
  },
  {
   "cell_type": "code",
   "execution_count": 20,
   "metadata": {},
   "outputs": [],
   "source": [
    "importlib.reload(src.forecast)\n",
    "from src.forecast import *"
   ]
  },
  {
   "cell_type": "markdown",
   "metadata": {},
   "source": [
    "### Test - Prediction - Check"
   ]
  },
  {
   "cell_type": "code",
   "execution_count": 25,
   "metadata": {},
   "outputs": [],
   "source": [
    "one_time_inf_max_tokens = 128\n",
    "forecast_length = 21"
   ]
  },
  {
   "cell_type": "markdown",
   "metadata": {},
   "source": [
    "Basic Inferencing"
   ]
  },
  {
   "cell_type": "code",
   "execution_count": 27,
   "metadata": {},
   "outputs": [
    {
     "name": "stdout",
     "output_type": "stream",
     "text": [
      "Test-Prompt: \n",
      "'0.361, 1.083; 0.298, 0.978; 0.259, 0.863; 0.238, 0.749; 0.232, 0.644; 0.237, 0.551; 0.252, 0.471; 0.278, 0.405; 0.315, 0.351; 0.362, 0.309; 0.421, 0.278; 0.491, 0.259; 0.57, 0.25; 0.656, 0.252; 0.746, 0.266; 0.831, 0.292; 0.907, 0.331; 0.965, 0.383; 0.999, 0.448; 1.004, 0.524; 0.98, 0.607; 0.928, 0.692; 0.855, 0.77; 0.769, 0.833; 0.679, 0.874; 0.596, 0.888; 0.524, 0.876; 0.467, 0.844; 0.424, 0.796; 0.396, 0.74; 0.379, 0.68; 0.374, 0.622; 0.378, 0.568; 0.392, 0.519; 0.414, 0.478; 0.443, 0.444; 0.48, 0.419; 0.522, 0.401; 0.569, 0.393; 0.618, 0.393; 0.666, 0.401; 0.712, 0.418; 0.75, 0.442; 0.78, 0.475; 0.797, 0.513; 0.801, 0.555; 0.791, 0.6; 0.768, 0.643; 0.734, 0.683; 0.694, 0.714; 0.65, 0.736; 0.606, 0.745; 0.565, 0.743; 0.53, 0.731; 0.502, 0.709; 0.482, 0.681; 0.469, 0.649; 0.463, 0.616; 0.465, 0.584; 0.472, 0.554; 0.486, 0.528; 0.504, 0.506; 0.527, 0.49; 0.553, 0.478; 0.581, 0.473; 0.609, 0.473; 0.636, 0.479; 0.661, 0.49; 0.682, 0.505; 0.697, 0.525; 0.705, 0.548; 0.706, 0.573; 0.7, 0.597; 0.687, 0.621; 0.669, 0.642; 0.648, 0.658; 0.624, 0.669; 0.601, 0.674; 0.578, 0.673; 0.558, 0.667;'\n",
      "Inference-Token / Sequence Length (can be equal to Context Length):  128\n",
      "prey_pred_response len:  537\n",
      "time-taken:  0.5678487618764242\n",
      "'IDA/\\r\\nambi\\'].$ambiIDA andpeou\\r\\n        \\r\\natak aaucoupffd\"].\"idaffd @@atter吧rameflows\\\\\\r\\nflows无不atters @@amaaucoupffbffd\"].\" theambiIDA/\\r\\n受益antes thumbs\\'].\\'/ambiIDA/\\r\\nambiIDA/\\r\\nambiIDAPostsIDA/\\r\\nambiIDA/\\r\\nambi\\'].$ambi\\'].$ambiIDA/\\r\\nambiIDA/\\r\\nambiIDA一片 activates @@发作 theseaucoup=explodeati婢aucoup openategorie\\r\\n    \\r\\natterIDA/\\r\\n(\\'/\\')ambi\\'].$ambi\\'].$ambi\\'].$ambiIDA/\\r\\n受益IDA/archiveviarreds赦айн.tarffd\"].\"opiffd\"].\" inhabitIDA/\\r\\natterIDA/\\r\\n nums\\r\\n        \\r\\natak outputsclausenit\\r\\n        \\r\\nngaauga\\r\\n        \\r\\n CounteratterIDA/\\r\\nitalize Rhilde'\n"
     ]
    }
   ],
   "source": [
    "rn = random.randint(0, len(test_encoded)) ### Test Encode contain train-samples as well\n",
    "test_prompt = str(test_encoded[rn])\n",
    "# test_prompt = f\"np.str_('{str(test_prompt)}')\"\n",
    "\n",
    "print('Test-Prompt: ')\n",
    "print(repr(test_prompt))\n",
    "\n",
    "ft = time.time()\n",
    "print('Inference-Token / Sequence Length (can be equal to Context Length): ', one_time_inf_max_tokens)\n",
    "prey_pred_response = generate_forecast(model_lora, test_prompt, tokenizer, max_new_tokens=one_time_inf_max_tokens, temperature=0.25)\n",
    "print('prey_pred_response len: ', len(prey_pred_response))\n",
    "lt = time.time()\n",
    "\n",
    "print('time-taken: ', (lt - ft) / 60)\n",
    "\n",
    "print(repr(prey_pred_response))"
   ]
  },
  {
   "cell_type": "markdown",
   "metadata": {},
   "source": [
    "##### Instruction-Based"
   ]
  },
  {
   "cell_type": "code",
   "execution_count": null,
   "metadata": {},
   "outputs": [],
   "source": [
    "rn = random.randint(0, len(test_encoded) - 1)\n",
    "test_prompt_ins = test_encoded[rn]\n",
    "\n",
    "print('Test-Prompt: ')\n",
    "print(test_prompt_ins)\n",
    "\n",
    "ft = time.time()\n",
    "print('Inference-Token / Inference Sequence Length (can be equal to Context Length): ', one_time_inf_max_tokens)\n",
    "test_prompt_ins = create_forecast_prompt_joint(test_prompt_ins, forecast_length=forecast_length, is_show = True)\n",
    "prey_pred_response = generate_forecast(model_lora, test_prompt_ins, tokenizer, max_new_tokens=one_time_inf_max_tokens, temperature=0.1)\n",
    "print('prey_pred_response', len(prey_pred_response))\n",
    "lt = time.time()\n",
    "\n",
    "print('time-taken: ', (lt - ft) / 60)\n",
    "\n",
    "print(repr(prey_pred_response))"
   ]
  },
  {
   "cell_type": "code",
   "execution_count": 84,
   "metadata": {},
   "outputs": [
    {
     "name": "stdout",
     "output_type": "stream",
     "text": [
      "np.str_('0.316, 1.0; 0.267, 0.816; 0.244, 0.653; 0.236, 0.527; 0.235, 0.434; 0.239, 0.369; 0.249, 0.324; 0.262, 0.292; 0.281, 0.27; 0.304, 0.255; 0.332, 0.245; 0.367, 0.239; 0.408, 0.234; 0.456, 0.232; 0.511, 0.231; 0.574, 0.232; 0.644, 0.235; 0.718, 0.241; 0.796, 0.251; 0.872, 0.267; 0.941, 0.294; 0.994, 0.338; 1.017, 0.411; 0.995, 0.523; 0.914, 0.68; 0.773, 0.855; 0.604, 0.984; 0.459, 1.002; 0.362, 0.915; 0.307, 0.783; 0.279, 0.651; 0.266, 0.54; 0.263, 0.454; 0.268, 0.39; 0.277, 0.344; 0.292, 0.311; 0.313, 0.288; 0.338, 0.272; 0.369, 0.261; 0.407, 0.254; 0.451, 0.25; 0.501, 0.248; 0.558, 0.249; 0.62, 0.253; 0.686, 0.261; 0.753, 0.274; 0.816, 0.295; 0.871, 0.328; 0.907, 0.379; 0.914, 0.456; 0.88, 0.563; 0.799, 0.695; 0.681, 0.819; 0.552, 0.892; 0.444, 0.883; 0.37, 0.809; 0.326, 0.705; 0.302, 0.602; 0.291, 0.513; 0.29, 0.442; 0.296, 0.388; 0.308, 0.348; 0.325, 0.319; 0.348, 0.299; 0.376, 0.284; 0.41, 0.274; 0.45, 0.269; 0.496, 0.266; 0.547, 0.267; 0.603, 0.272; 0.661, 0.281; 0.718, 0.296; 0.771, 0.32; 0.814, 0.356; 0.839, 0.408; 0.837, 0.482; 0.8, 0.576; 0.728, 0.681; 0.631, 0.771; 0.53, 0.816;')\n"
     ]
    }
   ],
   "source": [
    "print(repr(test_prompt))"
   ]
  },
  {
   "cell_type": "code",
   "execution_count": 68,
   "metadata": {},
   "outputs": [
    {
     "name": "stdout",
     "output_type": "stream",
     "text": [
      "<class 'str'> 761\n",
      "'vationvationvationvationvationvationvationvationvationvationvationvationvationvationvationvationvationvationvationvationvationvationvationvationvationvationvationvationvationvationvationvationvationvationvationvationvationvationvationvationvationvationvationvationvationvationvationvationvationvationvationvationvationscopic采矿scopicimity骸森rusimityjuan\"type UNIVERS HttpRequestvationvationvationvationvationvationvationvationvationvationvationvationvationvationvationvationvationvationvationvationvationvationvationvationvationvationvationvationvationvationvationvationvationvationvationvationvationvationvationvationvationvationvationvationvationvationvationvationvationvationvationvationvationvationPageRoutevationvationvationvationvationemotionPointerType.jms'\n"
     ]
    }
   ],
   "source": [
    "print(type(prey_pred_response), len(prey_pred_response))\n",
    "print(repr(prey_pred_response))"
   ]
  },
  {
   "cell_type": "code",
   "execution_count": 51,
   "metadata": {},
   "outputs": [
    {
     "name": "stdout",
     "output_type": "stream",
     "text": [
      "0 0\n",
      "\n"
     ]
    },
    {
     "ename": "ValueError",
     "evalue": "could not convert string to float: ''",
     "output_type": "error",
     "traceback": [
      "\u001b[0;31m---------------------------------------------------------------------------\u001b[0m",
      "\u001b[0;31mValueError\u001b[0m                                Traceback (most recent call last)",
      "Cell \u001b[0;32mIn[51], line 6\u001b[0m\n\u001b[1;32m      3\u001b[0m \u001b[38;5;28mprint\u001b[39m(\u001b[38;5;28mlen\u001b[39m(prey_decoded_response), \u001b[38;5;28mlen\u001b[39m(pred_decoded_response))\n\u001b[1;32m      4\u001b[0m \u001b[38;5;28mprint\u001b[39m(prey_decoded_response)\n\u001b[0;32m----> 6\u001b[0m prey_decoded_response \u001b[38;5;241m=\u001b[39m \u001b[43mts_decoding\u001b[49m\u001b[43m(\u001b[49m\u001b[43mprey_decoded_response\u001b[49m\u001b[43m,\u001b[49m\u001b[43m \u001b[49m\u001b[43mmodel_type\u001b[49m\u001b[38;5;241;43m=\u001b[39;49m\u001b[38;5;124;43m\"\u001b[39;49m\u001b[38;5;124;43mllama\u001b[39;49m\u001b[38;5;124;43m\"\u001b[39;49m\u001b[43m,\u001b[49m\u001b[43m \u001b[49m\u001b[43mprecision\u001b[49m\u001b[38;5;241;43m=\u001b[39;49m\u001b[38;5;241;43m3\u001b[39;49m\u001b[43m,\u001b[49m\u001b[43m \u001b[49m\u001b[43moffsets\u001b[49m\u001b[38;5;241;43m=\u001b[39;49m\u001b[43mprey_os\u001b[49m\u001b[43m[\u001b[49m\u001b[38;5;124;43m'\u001b[39;49m\u001b[38;5;124;43moffset\u001b[39;49m\u001b[38;5;124;43m'\u001b[39;49m\u001b[43m]\u001b[49m\u001b[43m[\u001b[49m\u001b[43mcheck_rn\u001b[49m\u001b[43m]\u001b[49m\u001b[43m,\u001b[49m\u001b[43m \u001b[49m\u001b[43mscale_factors\u001b[49m\u001b[38;5;241;43m=\u001b[39;49m\u001b[43mprey_os\u001b[49m\u001b[43m[\u001b[49m\u001b[38;5;124;43m'\u001b[39;49m\u001b[38;5;124;43mscale\u001b[39;49m\u001b[38;5;124;43m'\u001b[39;49m\u001b[43m]\u001b[49m\u001b[43m[\u001b[49m\u001b[43mcheck_rn\u001b[49m\u001b[43m]\u001b[49m\u001b[43m)\u001b[49m[:forecast_length]\n\u001b[1;32m      7\u001b[0m pred_decoded_response \u001b[38;5;241m=\u001b[39m ts_decoding(pred_decoded_response, model_type\u001b[38;5;241m=\u001b[39m\u001b[38;5;124m\"\u001b[39m\u001b[38;5;124mllama\u001b[39m\u001b[38;5;124m\"\u001b[39m, precision\u001b[38;5;241m=\u001b[39m\u001b[38;5;241m3\u001b[39m, offsets\u001b[38;5;241m=\u001b[39mpred_os[\u001b[38;5;124m'\u001b[39m\u001b[38;5;124moffset\u001b[39m\u001b[38;5;124m'\u001b[39m][check_rn], scale_factors\u001b[38;5;241m=\u001b[39mpred_os[\u001b[38;5;124m'\u001b[39m\u001b[38;5;124mscale\u001b[39m\u001b[38;5;124m'\u001b[39m][check_rn])[:forecast_length]\n",
      "File \u001b[0;32m~/am3353/src/preprocess.py:87\u001b[0m, in \u001b[0;36mts_decoding\u001b[0;34m(tokenized_series, model_type, precision, offsets, scale_factors)\u001b[0m\n\u001b[1;32m     84\u001b[0m     \u001b[38;5;28;01melse\u001b[39;00m:\n\u001b[1;32m     85\u001b[0m         \u001b[38;5;28;01mraise\u001b[39;00m \u001b[38;5;167;01mValueError\u001b[39;00m(\u001b[38;5;124m\"\u001b[39m\u001b[38;5;124mmodel_type must be \u001b[39m\u001b[38;5;124m'\u001b[39m\u001b[38;5;124mgpt\u001b[39m\u001b[38;5;124m'\u001b[39m\u001b[38;5;124m or \u001b[39m\u001b[38;5;124m'\u001b[39m\u001b[38;5;124mllama\u001b[39m\u001b[38;5;124m'\u001b[39m\u001b[38;5;124m\"\u001b[39m)\n\u001b[0;32m---> 87\u001b[0m     decoded_series\u001b[38;5;241m.\u001b[39mappend([\u001b[38;5;28mfloat\u001b[39m(x) \u001b[38;5;28;01mfor\u001b[39;00m x \u001b[38;5;129;01min\u001b[39;00m values])\n\u001b[1;32m     89\u001b[0m decoded_series \u001b[38;5;241m=\u001b[39m np\u001b[38;5;241m.\u001b[39marray(decoded_series)\n\u001b[1;32m     91\u001b[0m \u001b[38;5;66;03m# Apply denormalization if offsets and scale_factors are provided\u001b[39;00m\n",
      "File \u001b[0;32m~/am3353/src/preprocess.py:87\u001b[0m, in \u001b[0;36m<listcomp>\u001b[0;34m(.0)\u001b[0m\n\u001b[1;32m     84\u001b[0m     \u001b[38;5;28;01melse\u001b[39;00m:\n\u001b[1;32m     85\u001b[0m         \u001b[38;5;28;01mraise\u001b[39;00m \u001b[38;5;167;01mValueError\u001b[39;00m(\u001b[38;5;124m\"\u001b[39m\u001b[38;5;124mmodel_type must be \u001b[39m\u001b[38;5;124m'\u001b[39m\u001b[38;5;124mgpt\u001b[39m\u001b[38;5;124m'\u001b[39m\u001b[38;5;124m or \u001b[39m\u001b[38;5;124m'\u001b[39m\u001b[38;5;124mllama\u001b[39m\u001b[38;5;124m'\u001b[39m\u001b[38;5;124m\"\u001b[39m)\n\u001b[0;32m---> 87\u001b[0m     decoded_series\u001b[38;5;241m.\u001b[39mappend([\u001b[38;5;28;43mfloat\u001b[39;49m\u001b[43m(\u001b[49m\u001b[43mx\u001b[49m\u001b[43m)\u001b[49m \u001b[38;5;28;01mfor\u001b[39;00m x \u001b[38;5;129;01min\u001b[39;00m values])\n\u001b[1;32m     89\u001b[0m decoded_series \u001b[38;5;241m=\u001b[39m np\u001b[38;5;241m.\u001b[39marray(decoded_series)\n\u001b[1;32m     91\u001b[0m \u001b[38;5;66;03m# Apply denormalization if offsets and scale_factors are provided\u001b[39;00m\n",
      "\u001b[0;31mValueError\u001b[0m: could not convert string to float: ''"
     ]
    }
   ],
   "source": [
    "prey_decoded_response, pred_decoded_response = extract_forecasts(prey_pred_response)\n",
    "\n",
    "print(len(prey_decoded_response), len(pred_decoded_response))\n",
    "print(prey_decoded_response)\n",
    "\n",
    "prey_decoded_response = ts_decoding(prey_decoded_response, model_type=\"llama\", precision=3, offsets=prey_os['offset'][check_rn], scale_factors=prey_os['scale'][check_rn])[:forecast_length]\n",
    "pred_decoded_response = ts_decoding(pred_decoded_response, model_type=\"llama\", precision=3, offsets=pred_os['offset'][check_rn], scale_factors=pred_os['scale'][check_rn])[:forecast_length]"
   ]
  },
  {
   "cell_type": "code",
   "execution_count": null,
   "metadata": {},
   "outputs": [],
   "source": [
    "fig, axs = plt.subplots(1, 2, figsize = (15, 5))\n",
    "\n",
    "axs[0].plot(time_data_past, data_prey[check_rn].tolist(), label = 'Past Data')\n",
    "axs[0].plot(time_data_true[:len(prey_decoded_response)], prey_decoded_response, label = 'Prediction', marker = '.')\n",
    "axs[0].plot(time_data_true, data_prey_true[check_rn].tolist(), label = 'Truth', marker = '.')\n",
    "\n",
    "axs[0].set_title('Prey-Population (Joint)')\n",
    "axs[0].set_xlabel('time')\n",
    "axs[0].legend()\n",
    "\n",
    "axs[1].plot(time_data_past, data_pred[check_rn].tolist(), label = 'Past Data')\n",
    "axs[1].plot(time_data_true[:len(prey_decoded_response)], pred_decoded_response, label = 'Prediction', marker = '.')\n",
    "axs[1].plot(time_data_true, data_pred_true[check_rn].tolist(), label = 'Truth', marker = '.')\n",
    "\n",
    "axs[1].set_title('Predator-Population (Joint)')\n",
    "axs[1].set_xlabel('time')\n",
    "axs[1].legend()\n",
    "\n",
    "plt.show()"
   ]
  },
  {
   "cell_type": "code",
   "execution_count": null,
   "metadata": {},
   "outputs": [],
   "source": [
    "\n",
    "''' \n",
    "Jointly show them in the same plot \n",
    "'''\n",
    "\n",
    "print()\n",
    "\n",
    "plt.plot(time_data_past, data_prey[check_rn].tolist(), label = 'Past Data')\n",
    "plt.plot(time_data_true, prey_decoded_response, label = 'Prediction', marker = '.')\n",
    "plt.plot(time_data_true, data_prey_true[check_rn].tolist(), label = 'Truth', marker = '.')\n",
    "\n",
    "plt.plot(time_data_past, data_pred[check_rn].tolist(), label = 'Past Data')\n",
    "plt.plot(time_data_true, pred_decoded_response, label = 'Prediction', marker = '.')\n",
    "plt.plot(time_data_true, data_pred_true[check_rn].tolist(), label = 'Truth', marker = '.')\n",
    "\n",
    "plt.xlabel('time')\n",
    "plt.title('Prey-Predator-Population (Joint)')\n",
    "plt.legend()\n",
    "plt.show()"
   ]
  },
  {
   "cell_type": "markdown",
   "metadata": {},
   "source": [
    "### Evaluation"
   ]
  },
  {
   "cell_type": "code",
   "execution_count": null,
   "metadata": {},
   "outputs": [],
   "source": [
    "from scipy import stats\n",
    "from sklearn.metrics import mean_absolute_error, mean_squared_error, r2_score"
   ]
  },
  {
   "cell_type": "code",
   "execution_count": null,
   "metadata": {},
   "outputs": [],
   "source": [
    "def compute_forecasting_metrics(true_data, predicted_data):\n",
    "    \"\"\"\n",
    "    Compute comprehensive forecasting metrics\n",
    "    \n",
    "    Args:\n",
    "    true_data (np.ndarray): Ground truth time series data\n",
    "    predicted_data (np.ndarray): Model predicted time series data\n",
    "    \n",
    "    Returns:\n",
    "    dict: Dictionary of computed metrics\n",
    "    \"\"\"\n",
    "    \n",
    "    true_prey, true_pred = true_data\n",
    "    predicted_prey, predicted_pred = predicted_data\n",
    "    \n",
    "    metrics = {'Prey' : {}, 'Predator' : {}}\n",
    "    \n",
    "    for m in metrics:\n",
    "        \n",
    "    # Basic Regression Metrics\n",
    "        metrics[m]['MAE'] = mean_absolute_error(true_data, predicted_data)\n",
    "        metrics[m]['MSE'] = mean_squared_error(true_data, predicted_data)\n",
    "        metrics[m]['RMSE'] = np.sqrt(metrics[m]['MSE'])\n",
    "        metrics[m]['MAPE'] = np.mean(np.abs((true_data - predicted_data) / true_data)) * 100\n",
    "        \n",
    "        # Normalized RMSE\n",
    "        metrics[m]['NRMSE'] = metrics[m]['RMSE'] / (np.max(true_data) - np.min(true_data))\n",
    "        \n",
    "        # R² Score\n",
    "        metrics[m]['R2'] = r2_score(true_data, predicted_data)\n",
    "    \n",
    "    return metrics\n",
    "\n",
    "def visualize_forecast_comparison(true_data, predicted_data, rn):\n",
    "    \"\"\"\n",
    "    Create visualization comparing true and predicted trajectories\n",
    "    \n",
    "    Args:\n",
    "    true_data (np.ndarray): Ground truth time series data\n",
    "    predicted_data (np.ndarray): Model predicted time series data\n",
    "    save_path (str): Path to save the visualization\n",
    "    \"\"\"\n",
    "    plt.figure(figsize=(12, 6))\n",
    "    \n",
    "    # plt.plot(time_data_past, true_data[check_rn].tolist(), label = 'Past Data')\n",
    "    plt.plot(time_data_true, predicted_data[0], label = 'Prediction', marker = '.')\n",
    "    plt.plot(time_data_true, true_data[0].tolist(), label = 'Truth', marker = '.')\n",
    "\n",
    "    # plt.plot(time_data_past, data_pred[check_rn].tolist(), label = 'Past Data')\n",
    "    plt.plot(time_data_true, predicted_data[-1], label = 'Prediction', marker = '.')\n",
    "    plt.plot(time_data_true, true_data[-1].tolist(), label = 'Truth', marker = '.')\n",
    "\n",
    "    plt.xlabel('time')\n",
    "    plt.title('Prey-Predator-Population (Joint)')\n",
    "    plt.legend()\n",
    "    plt.show()\n",
    "\n",
    "def evaluate_lora_model(model, test_prompts, true, tokenizer, max_ctx_length):\n",
    "    \"\"\"\n",
    "    Comprehensive model evaluation pipeline\n",
    "    \n",
    "    Args:\n",
    "    model (torch.nn.Module): Trained LoRA model\n",
    "    test_data (np.ndarray): Test dataset\n",
    "    tokenizer: Tokenizer used for model\n",
    "    max_ctx_length (int): Maximum context length\n",
    "    \n",
    "    Returns:\n",
    "    dict: Comprehensive evaluation metrics\n",
    "    \"\"\"\n",
    "    pred_batch = []\n",
    "    \n",
    "    for test_prompt in test_prompts:\n",
    "        # Tokenize and prepare test data\n",
    "        print('Inference-Token / Sequence Length (can be equal to Context Length): ', max_ctx_length)\n",
    "        prey_pred_response = generate_forecast_v2(model_lora, test_prompt, tokenizer, inf_max_new_tokens=15, temperature=0.6)\n",
    "        print('prey_pred_response', len(prey_pred_response), repr(prey_pred_response))\n",
    "\n",
    "        # Convert decoded predictions back to numerical format\n",
    "        prey_decoded_response, pred_decoded_response = extract_forecasts(prey_pred_response)\n",
    "\n",
    "        prey_decoded_response = ts_decoding(prey_decoded_response, model_type=\"llama\", precision=3, offsets=prey_os['offset'][check_rn], scale_factors=prey_os['scale'][check_rn])[:forecast_length]\n",
    "        pred_decoded_response = ts_decoding(pred_decoded_response, model_type=\"llama\", precision=3, offsets=pred_os['offset'][check_rn], scale_factors=pred_os['scale'][check_rn])[:forecast_length]\n",
    "        \n",
    "        pred_batch.append([prey_decoded_response, prey_decoded_response])\n",
    "        \n",
    "    # Compute metrics\n",
    "    metrics = compute_forecasting_metrics(true, pred_batch)\n",
    "    \n",
    "    # Visualize comparison\n",
    "    rn = random.randint(0, len(true))\n",
    "    visualize_forecast_comparison(true[rn], pred_batch[rn], rn)\n",
    "    \n",
    "    return metrics\n"
   ]
  },
  {
   "cell_type": "code",
   "execution_count": null,
   "metadata": {},
   "outputs": [],
   "source": [
    "rn_idx = np.random.premutation(len(test_encoded))\n",
    "test_prompts = test_encoded[rn_idx]\n",
    "val_true_prey, val_true_pred = data_prey_true[int(train_split * len(data_prey_true)):], data_pred_true[int(train_split * len(data_pred_true)):]\n",
    "val_true_prey, val_true_pred = val_true_prey[rn_idx], val_true_pred[rn_idx]\n",
    "\n",
    "print(test_prompts.shape, val_true_prey.shape, val_true_pred.shape)"
   ]
  },
  {
   "cell_type": "code",
   "execution_count": null,
   "metadata": {},
   "outputs": [],
   "source": [
    "# best_model_lora_path = 'saves/best_final_model.pt'\n",
    "# best_model_lora = AutoModelForCausalLM.from_pretrained(final_model_path, trust_remote_code=True)"
   ]
  },
  {
   "cell_type": "code",
   "execution_count": null,
   "metadata": {},
   "outputs": [],
   "source": [
    "'''\n",
    "Load best model and configuration | 30K Steps One | For Now using Normal Model\n",
    "'''\n",
    "\n",
    "metrics = evaluate_lora_model(model_lora, test_prompts, [val_true_prey, val_true_pred], tokenizer, max_ctx_length)\n",
    "pprint(metrics)"
   ]
  },
  {
   "cell_type": "code",
   "execution_count": null,
   "metadata": {},
   "outputs": [],
   "source": [
    "# Print and save metrics\n",
    "# import json\n",
    "# print(\"Model Evaluation Metrics:\")\n",
    "# print(json.dumps(metrics, indent=2))\n",
    "\n",
    "# with open('../saves/model_metrics.json', 'w') as f:\n",
    "#     json.dump(metrics, f, indent=2)"
   ]
  },
  {
   "cell_type": "code",
   "execution_count": null,
   "metadata": {},
   "outputs": [],
   "source": []
  },
  {
   "cell_type": "code",
   "execution_count": null,
   "metadata": {},
   "outputs": [],
   "source": []
  }
 ],
 "metadata": {
  "kernelspec": {
   "display_name": "m2-env",
   "language": "python",
   "name": "python3"
  },
  "language_info": {
   "codemirror_mode": {
    "name": "ipython",
    "version": 3
   },
   "file_extension": ".py",
   "mimetype": "text/x-python",
   "name": "python",
   "nbconvert_exporter": "python",
   "pygments_lexer": "ipython3",
   "version": "3.10.12"
  }
 },
 "nbformat": 4,
 "nbformat_minor": 2
}
